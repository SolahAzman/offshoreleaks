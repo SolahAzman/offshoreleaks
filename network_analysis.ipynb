{
  "nbformat": 4,
  "nbformat_minor": 0,
  "metadata": {
    "colab": {
      "name": "network_analysis.ipynb",
      "provenance": [],
      "toc_visible": true,
      "authorship_tag": "ABX9TyN6Okb76+eLg/iKHVhqKEwb",
      "include_colab_link": true
    },
    "kernelspec": {
      "name": "python3",
      "display_name": "Python 3"
    },
    "language_info": {
      "name": "python"
    }
  },
  "cells": [
    {
      "cell_type": "markdown",
      "metadata": {
        "id": "view-in-github",
        "colab_type": "text"
      },
      "source": [
        "<a href=\"https://colab.research.google.com/github/SolahAzman/offshoreleaks/blob/main/network_analysis.ipynb\" target=\"_parent\"><img src=\"https://colab.research.google.com/assets/colab-badge.svg\" alt=\"Open In Colab\"/></a>"
      ]
    },
    {
      "cell_type": "markdown",
      "metadata": {
        "id": "nZc_gKLdUzWG"
      },
      "source": [
        "##Setup"
      ]
    },
    {
      "cell_type": "code",
      "metadata": {
        "id": "LtgKeRpRkUzM"
      },
      "source": [
        "! pip install klib"
      ],
      "execution_count": null,
      "outputs": []
    },
    {
      "cell_type": "code",
      "metadata": {
        "id": "6lJQlwh6UuHt"
      },
      "source": [
        "# pandas, numpy, matplotlib, seaborn\n",
        "import pandas as pd\n",
        "import numpy as np\n",
        "import seaborn as sns\n",
        "import matplotlib as mpl\n",
        "import matplotlib.pyplot as plt\n",
        "import seaborn as sns\n",
        "import klib\n",
        "\n",
        "#Display Option\n",
        "pd.set_option('display.max_rows', 500)\n",
        "pd.set_option('display.max_columns', 500)\n",
        "pd.set_option('display.width', 1000000)\n",
        "sns.set_style('darkgrid')"
      ],
      "execution_count": 3,
      "outputs": []
    },
    {
      "cell_type": "code",
      "metadata": {
        "id": "q2Ad8WAoVEti"
      },
      "source": [
        "# Install Kaggle\n",
        "\n",
        "!pip install -q kaggle"
      ],
      "execution_count": 4,
      "outputs": []
    },
    {
      "cell_type": "code",
      "metadata": {
        "id": "4PvEICn2VTHz"
      },
      "source": [
        "#create a kaggle file kaggle.json\n",
        "\n",
        "! mkdir ~/.kaggle"
      ],
      "execution_count": 5,
      "outputs": []
    },
    {
      "cell_type": "code",
      "metadata": {
        "id": "QNWtpPa2VbYL"
      },
      "source": [
        "#copy the kaggle.json to folder created\n",
        "\n",
        "! cp kaggle.json ~/.kaggle/"
      ],
      "execution_count": 6,
      "outputs": []
    },
    {
      "cell_type": "code",
      "metadata": {
        "id": "tfTHQ-7kVfvx"
      },
      "source": [
        "# Permission for the jason to act\n",
        "\n",
        "! chmod 600 ~/.kaggle/kaggle.json"
      ],
      "execution_count": 7,
      "outputs": []
    },
    {
      "cell_type": "code",
      "metadata": {
        "colab": {
          "base_uri": "https://localhost:8080/"
        },
        "id": "Kn6juetmVkzz",
        "outputId": "92e38bfa-86cd-44b5-807a-21fd3022b3a3"
      },
      "source": [
        "# Download data from kaggle\n",
        "\n",
        "!kaggle datasets download -d zusmani/paradisepanamapapers"
      ],
      "execution_count": 8,
      "outputs": [
        {
          "output_type": "stream",
          "name": "stdout",
          "text": [
            "Downloading paradisepanamapapers.zip to /content\n",
            " 92% 123M/134M [00:01<00:00, 101MB/s] \n",
            "100% 134M/134M [00:01<00:00, 121MB/s]\n"
          ]
        }
      ]
    },
    {
      "cell_type": "code",
      "metadata": {
        "colab": {
          "base_uri": "https://localhost:8080/"
        },
        "id": "nMonF1L0WbxP",
        "outputId": "87e95aeb-7a3d-4a7e-8fb7-ebe5dbd848a5"
      },
      "source": [
        "# Unzip downloaded folder\n",
        "\n",
        "! unzip /content/paradisepanamapapers.zip"
      ],
      "execution_count": 9,
      "outputs": [
        {
          "output_type": "stream",
          "name": "stdout",
          "text": [
            "Archive:  /content/paradisepanamapapers.zip\n",
            "  inflating: Addresses.csv           \n",
            "  inflating: Entities.csv            \n",
            "  inflating: Intermediaries.csv      \n",
            "  inflating: Officers.csv            \n",
            "  inflating: all_edges.csv           \n",
            "  inflating: bahamas_leaks.edges.csv  \n",
            "  inflating: bahamas_leaks.nodes.address.csv  \n",
            "  inflating: bahamas_leaks.nodes.entity.csv  \n",
            "  inflating: bahamas_leaks.nodes.intermediary.csv  \n",
            "  inflating: bahamas_leaks.nodes.officer.csv  \n",
            "  inflating: bahamas_leaks.nodes.other.csv  \n",
            "  inflating: csv_bahamas_leaks.2017-11-17/bahamas_leaks.edges.csv  \n",
            "  inflating: csv_bahamas_leaks.2017-11-17/bahamas_leaks.nodes.address.csv  \n",
            "  inflating: csv_bahamas_leaks.2017-11-17/bahamas_leaks.nodes.entity.csv  \n",
            "  inflating: csv_bahamas_leaks.2017-11-17/bahamas_leaks.nodes.intermediary.csv  \n",
            "  inflating: csv_bahamas_leaks.2017-11-17/bahamas_leaks.nodes.officer.csv  \n",
            "  inflating: csv_bahamas_leaks.2017-11-17/bahamas_leaks.nodes.other.csv  \n",
            "  inflating: csv_offshore_leaks.2017-11-17/offshore_leaks.edges.csv  \n",
            "  inflating: csv_offshore_leaks.2017-11-17/offshore_leaks.nodes.address.csv  \n",
            "  inflating: csv_offshore_leaks.2017-11-17/offshore_leaks.nodes.entity.csv  \n",
            "  inflating: csv_offshore_leaks.2017-11-17/offshore_leaks.nodes.intermediary.csv  \n",
            "  inflating: csv_offshore_leaks.2017-11-17/offshore_leaks.nodes.officer.csv  \n",
            "  inflating: csv_offshore_leaks.2017-11-17/offshore_leaks.nodes.other.csv  \n",
            "  inflating: csv_panama_papers.2017-11-17/panama_papers.edges.csv  \n",
            "  inflating: csv_panama_papers.2017-11-17/panama_papers.nodes.address.csv  \n",
            "  inflating: csv_panama_papers.2017-11-17/panama_papers.nodes.entity.csv  \n",
            "  inflating: csv_panama_papers.2017-11-17/panama_papers.nodes.intermediary.csv  \n",
            "  inflating: csv_panama_papers.2017-11-17/panama_papers.nodes.officer.csv  \n",
            "  inflating: csv_panama_papers.2017-11-17/panama_papers.nodes.other.csv  \n",
            "  inflating: csv_paradise_papers.2017-11-17/paradise_papers.edges.csv  \n",
            "  inflating: csv_paradise_papers.2017-11-17/paradise_papers.nodes.address.csv  \n",
            "  inflating: csv_paradise_papers.2017-11-17/paradise_papers.nodes.entity.csv  \n",
            "  inflating: csv_paradise_papers.2017-11-17/paradise_papers.nodes.intermediary.csv  \n",
            "  inflating: csv_paradise_papers.2017-11-17/paradise_papers.nodes.officer.csv  \n",
            "  inflating: csv_paradise_papers.2017-11-17/paradise_papers.nodes.other.csv  \n",
            "  inflating: offshore_leaks.edges.csv  \n",
            "  inflating: offshore_leaks.nodes.address.csv  \n",
            "  inflating: offshore_leaks.nodes.entity.csv  \n",
            "  inflating: offshore_leaks.nodes.intermediary.csv  \n",
            "  inflating: offshore_leaks.nodes.officer.csv  \n",
            "  inflating: offshore_leaks.nodes.other.csv  \n",
            "  inflating: panama_papers.edges.csv  \n",
            "  inflating: panama_papers.nodes.address.csv  \n",
            "  inflating: panama_papers.nodes.entity.csv  \n",
            "  inflating: panama_papers.nodes.intermediary.csv  \n",
            "  inflating: panama_papers.nodes.officer.csv  \n",
            "  inflating: panama_papers.nodes.other.csv  \n",
            "  inflating: paradise_papers.edges.csv  \n",
            "  inflating: paradise_papers.nodes.address.csv  \n",
            "  inflating: paradise_papers.nodes.entity.csv  \n",
            "  inflating: paradise_papers.nodes.intermediary.csv  \n",
            "  inflating: paradise_papers.nodes.officer.csv  \n",
            "  inflating: paradise_papers.nodes.other.csv  \n"
          ]
        }
      ]
    },
    {
      "cell_type": "markdown",
      "metadata": {
        "id": "fru8i1qYU4p7"
      },
      "source": [
        "## EDA & Cleaning"
      ]
    },
    {
      "cell_type": "markdown",
      "metadata": {
        "id": "UNjzTHiWnPPC"
      },
      "source": [
        "Any df with no \"edges\" in its name is nodes. \n",
        "<br><br>\n",
        "\n",
        "**Abbreviation**<br>\n",
        "Bahamas = bs <br>\n",
        "offshore = os <br>\n",
        "Panama = pn <br>\n",
        "Paradise = pr"
      ]
    },
    {
      "cell_type": "markdown",
      "metadata": {
        "id": "y3U5E9SxgM1n"
      },
      "source": [
        "###Bahamas Folder"
      ]
    },
    {
      "cell_type": "code",
      "metadata": {
        "colab": {
          "base_uri": "https://localhost:8080/"
        },
        "id": "5u0ZKE8KU96W",
        "outputId": "ccf9e061-7f07-448b-cbf2-79af089ce813"
      },
      "source": [
        "bs_edges = pd.read_csv(\"/content/csv_bahamas_leaks.2017-11-17/bahamas_leaks.edges.csv\")\n",
        "bs_edges = klib.data_cleaning(bs_edges)\n",
        "\n",
        "print(\"\\033[4mTop Columns\\033[0m\")\n",
        "print(bs_edges.head(), end= \"\\n\\n\")\n",
        "print(\"\\033[4mrows, columns\\033[0m\")\n",
        "print(bs_edges.shape, end= \"\\n\\n\")\n",
        "print(\"\\033[4mInfo\\033[0m\")\n",
        "print(bs_edges.info(), end= \"\\n\\n\")\n",
        "print(\"\\033[4mNumber of Unique by Columns\\033[0m\")\n",
        "print(bs_edges.nunique(), end= \"\\n\\n\")\n",
        "print(\"\\033[4mPercentage of Missing Value\\033[0m\")\n",
        "print(bs_edges.isnull().sum() * 100 / len(bs_edges))"
      ],
      "execution_count": 10,
      "outputs": [
        {
          "output_type": "stream",
          "name": "stderr",
          "text": [
            "/usr/local/lib/python3.7/dist-packages/IPython/core/interactiveshell.py:2718: DtypeWarning: Columns (5,6) have mixed types.Specify dtype option on import or set low_memory=False.\n",
            "  interactivity=interactivity, compiler=compiler, result=result)\n"
          ]
        },
        {
          "output_type": "stream",
          "name": "stdout",
          "text": [
            "Shape of cleaned data: (246349, 4)Remaining NAs: 215760\n",
            "\n",
            "Changes:\n",
            "Dropped rows: 2841\n",
            "     of which 2841 duplicates. (Rows: [192246, 192250, 192332, 192347, 192351, 192520, 192521, 192692, 192694, 192696, 192698, 193019, 193266, 193267, 193280, 193282, 193316, 193318, 193420, 193433, 193435, 193437, 193443, 193445, 193447, 193486, 193501, 193524, 193562, 193564, 193574, 193576, 193578, 193580, 193582, 193584, 193586, 193588, 193590, 193592, 193594, 193596, 193649, 193651, 193654, 193704, 193730, 193731, 193733, 193743, 193744, 193781, 193784, 193789, 193944, 194217, 194226, 194228, 194230, 194232, 194413, 194892, 194894, 194968, 194969, 194971, 194972, 195112, 195115, 195118, 195120, 195122, 195124, 195126, 195128, 195131, 195293, 195296, 195693, 195695, 195724, 195888, 195890, 195934, 195936, 195947, 195956, 195985, 196023, 196025, 196027, 196047, 196054, 196056, 196481, 196553, 196628, 196630, 196632, 196634, 196636, 196638, 196640, 196642, 196644, 196646, 196648, 196666, 196667, 196669, 196670, 196708, 196717, 196754, 196756, 196910, 196912, 196916, 196917, 196935, 196957, 196959, 196962, 196973, 196975, 197192, 197194, 197295, 197314, 197318, 197353, 197370, 197392, 197394, 197477, 197615, 197648, 197827, 197846, 197860, 197863, 197867, 198205, 198212, 198449, 198516, 198525, 198530, 198532, 198542, 198544, 198556, 198589, 198621, 198622, 198632, 198639, 198687, 198689, 198758, 198985, 198987, 199042, 199245, 199261, 199262, 199299, 199373, 199454, 199462, 199473, 199508, 199510, 199541, 199593, 199683, 199840, 199884, 199911, 199970, 199971, 199974, 199975, 199976, 199977, 200305, 200308, 200351, 200400, 200401, 200410, 200411, 200420, 200422, 200427, 200441, 200520, 200527, 200615, 200653])\n",
            "Dropped columns: 3\n",
            "     of which 2 single valued.     Columns: ['r_source_id', 'r_valid_until']\n",
            "Dropped missing values: 245022\n",
            "Reduced memory by at least: 10.53 MB (-79.11%)\n",
            "\n",
            "\u001b[4mTop Columns\u001b[0m\n",
            "     node_1         rel_type    node_2 r_start_date\n",
            "0  24000030  same_address_as  14035591          NaN\n",
            "1  24000086  same_address_as  14077570          NaN\n",
            "2  24000090  same_address_as  14077931          NaN\n",
            "3  24000098  same_address_as  14037925          NaN\n",
            "4  24000336  same_address_as  14049152          NaN\n",
            "\n",
            "\u001b[4mrows, columns\u001b[0m\n",
            "(246349, 4)\n",
            "\n",
            "\u001b[4mInfo\u001b[0m\n",
            "<class 'pandas.core.frame.DataFrame'>\n",
            "RangeIndex: 246349 entries, 0 to 246348\n",
            "Data columns (total 4 columns):\n",
            " #   Column        Non-Null Count   Dtype   \n",
            "---  ------        --------------   -----   \n",
            " 0   node_1        246349 non-null  int32   \n",
            " 1   rel_type      246349 non-null  category\n",
            " 2   node_2        246349 non-null  int32   \n",
            " 3   r_start_date  30589 non-null   category\n",
            "dtypes: category(2), int32(2)\n",
            "memory usage: 2.8 MB\n",
            "None\n",
            "\n",
            "\u001b[4mNumber of Unique by Columns\u001b[0m\n",
            "node_1           41519\n",
            "rel_type             9\n",
            "node_2          212537\n",
            "r_start_date      5713\n",
            "dtype: int64\n",
            "\n",
            "\u001b[4mPercentage of Missing Value\u001b[0m\n",
            "node_1           0.000000\n",
            "rel_type         0.000000\n",
            "node_2           0.000000\n",
            "r_start_date    87.583063\n",
            "dtype: float64\n"
          ]
        }
      ]
    },
    {
      "cell_type": "code",
      "metadata": {
        "colab": {
          "base_uri": "https://localhost:8080/"
        },
        "id": "8QCWySTjmeZW",
        "outputId": "b65bb646-98e7-4e54-93ea-4585d6c888c7"
      },
      "source": [
        "bs_address = pd.read_csv(\"/content/csv_bahamas_leaks.2017-11-17/bahamas_leaks.nodes.address.csv\")\n",
        "bs_address = klib.data_cleaning(bs_address)\n",
        "                            \n",
        "print(\"\\033[4mTop Columns\\033[0m \")\n",
        "print(bs_address.head(), end= \"\\n\\n\")\n",
        "print(\"\\033[4mRows, Columns\\033[0m \")\n",
        "print(bs_address.shape, end= \"\\n\\n\")\n",
        "print(\"\\033[4mInfo\\033[0m \")\n",
        "print(bs_address.info(), end= \"\\n\\n\")\n",
        "print(\"\\033[4mNumber of Unique by Columns\\033[0m \")\n",
        "print(bs_address.nunique(), end= \"\\n\\n\")\n",
        "print(\"\\033[4mPercentage of Missing Value\\033[0m\")\n",
        "print(bs_address.isnull().sum() * 100 / len(bs_address))"
      ],
      "execution_count": 11,
      "outputs": [
        {
          "output_type": "stream",
          "name": "stdout",
          "text": [
            "Shape of cleaned data: (551, 4)Remaining NAs: 0\n",
            "\n",
            "Changes:\n",
            "Dropped rows: 0\n",
            "     of which 0 duplicates. (Rows: [])\n",
            "Dropped columns: 14\n",
            "     of which 3 single valued.     Columns: ['labels_n', 'n_valid_until', 'n_source_id']\n",
            "Dropped missing values: 6038\n",
            "Reduced memory by at least: 0.07 MB (-87.5%)\n",
            "\n",
            "\u001b[4mTop Columns\u001b[0m \n",
            "  n_country_codes n_countries  n_node_id                                          n_address\n",
            "0             BHS     Bahamas   24000001  ANNEX FREDERICK & SHIRLEY STS, P.O. BOX N-4805...\n",
            "1             BHS     Bahamas   24000002  SUITE E-2,UNION COURT BUILDING, P.O. BOX N-818...\n",
            "2             BHS     Bahamas   24000003  LYFORD CAY HOUSE, LYFORD CAY, P.O. BOX N-7785,...\n",
            "3             BHS     Bahamas   24000004  P.O. BOX N-3708 BAHAMAS FINANCIAL CENTRE, P.O....\n",
            "4             BHS     Bahamas   24000005  LYFORD CAY HOUSE, 3RD FLOOR, LYFORD CAY, P.O. ...\n",
            "\n",
            "\u001b[4mRows, Columns\u001b[0m \n",
            "(551, 4)\n",
            "\n",
            "\u001b[4mInfo\u001b[0m \n",
            "<class 'pandas.core.frame.DataFrame'>\n",
            "RangeIndex: 551 entries, 0 to 550\n",
            "Data columns (total 4 columns):\n",
            " #   Column           Non-Null Count  Dtype   \n",
            "---  ------           --------------  -----   \n",
            " 0   n_country_codes  551 non-null    category\n",
            " 1   n_countries      551 non-null    category\n",
            " 2   n_node_id        551 non-null    int32   \n",
            " 3   n_address        551 non-null    string  \n",
            "dtypes: category(2), int32(1), string(1)\n",
            "memory usage: 8.5 KB\n",
            "None\n",
            "\n",
            "\u001b[4mNumber of Unique by Columns\u001b[0m \n",
            "n_country_codes     11\n",
            "n_countries         11\n",
            "n_node_id          551\n",
            "n_address          550\n",
            "dtype: int64\n",
            "\n",
            "\u001b[4mPercentage of Missing Value\u001b[0m\n",
            "n_country_codes    0.0\n",
            "n_countries        0.0\n",
            "n_node_id          0.0\n",
            "n_address          0.0\n",
            "dtype: float64\n"
          ]
        }
      ]
    },
    {
      "cell_type": "code",
      "metadata": {
        "colab": {
          "base_uri": "https://localhost:8080/"
        },
        "id": "7vDzKl5ytByu",
        "outputId": "78623ab6-07c7-4815-bac5-537399811177"
      },
      "source": [
        "bs_entity = pd.read_csv(\"/content/csv_bahamas_leaks.2017-11-17/bahamas_leaks.nodes.entity.csv\")\n",
        "bs_entity = klib.data_cleaning(bs_entity)\n",
        "\n",
        "print(\"\\033[4Top Columns\\033[0m\")\n",
        "print(bs_entity.head(), end= \"\\n\\n\")\n",
        "print(\"\\033[4Rows, Columns\\033[0m\")\n",
        "print(bs_entity.shape, end= \"\\n\\n\")\n",
        "print(\"\\033[4Info\\033[0m\")\n",
        "print(bs_entity.info(), end= \"\\n\\n\")\n",
        "print(\"\\033[4Number of Unique by Columns\\033[0m\")\n",
        "print(bs_entity.nunique(), end= \"\\n\\n\")\n",
        "print(\"\\033[4mPercentage of Missing Value\\033[0m\")\n",
        "print(bs_entity.isnull().sum() * 100 / len(bs_entity))"
      ],
      "execution_count": 12,
      "outputs": [
        {
          "output_type": "stream",
          "name": "stderr",
          "text": [
            "/usr/local/lib/python3.7/dist-packages/IPython/core/interactiveshell.py:2718: DtypeWarning: Columns (17) have mixed types.Specify dtype option on import or set low_memory=False.\n",
            "  interactivity=interactivity, compiler=compiler, result=result)\n"
          ]
        },
        {
          "output_type": "stream",
          "name": "stdout",
          "text": [
            "Long column names detected (>25 characters). Consider renaming the following columns ['n_jurisdiction_description'].\n",
            "Shape of cleaned data: (175888, 4)Remaining NAs: 17\n",
            "\n",
            "Changes:\n",
            "Dropped rows: 0\n",
            "     of which 0 duplicates. (Rows: [])\n",
            "Dropped columns: 14\n",
            "     of which 5 single valued.     Columns: ['labels_n', 'n_valid_until', 'n_source_id', 'n_jurisdiction_description', 'n_jurisdiction']\n",
            "Dropped missing values: 1582991\n",
            "Reduced memory by at least: 19.45 MB (-80.54%)\n",
            "\n",
            "\u001b[4Top Columns\u001b[0m\n",
            "   n_node_id                                 n_name n_incorporation_date n_ibc_ruc\n",
            "0   20003127              DALMA CORPORATION LIMITED          30-NOV-1990     3127B\n",
            "1   20010494  ASIA CONSTRUCTION CORPORATION LIMITED          14-AUG-1992    10494B\n",
            "2   20010495                 EURO LOGISTICS LIMITED          14-AUG-1992    10495B\n",
            "3   20010496                   EURO LEISURE LIMITED          14-AUG-1992    10496B\n",
            "4   20010497          EURO DATA PROCUREMENT LIMITED          14-AUG-1992    10497B\n",
            "\n",
            "\u001b[4Rows, Columns\u001b[0m\n",
            "(175888, 4)\n",
            "\n",
            "\u001b[4Info\u001b[0m\n",
            "<class 'pandas.core.frame.DataFrame'>\n",
            "RangeIndex: 175888 entries, 0 to 175887\n",
            "Data columns (total 4 columns):\n",
            " #   Column                Non-Null Count   Dtype \n",
            "---  ------                --------------   ----- \n",
            " 0   n_node_id             175888 non-null  int32 \n",
            " 1   n_name                175888 non-null  string\n",
            " 2   n_incorporation_date  175871 non-null  string\n",
            " 3   n_ibc_ruc             175888 non-null  string\n",
            "dtypes: int32(1), string(3)\n",
            "memory usage: 4.7 MB\n",
            "None\n",
            "\n",
            "\u001b[4Number of Unique by Columns\u001b[0m\n",
            "n_node_id               175888\n",
            "n_name                  175514\n",
            "n_incorporation_date      6732\n",
            "n_ibc_ruc               175150\n",
            "dtype: int64\n",
            "\n",
            "\u001b[4mPercentage of Missing Value\u001b[0m\n",
            "n_node_id               0.000000\n",
            "n_name                  0.000000\n",
            "n_incorporation_date    0.009665\n",
            "n_ibc_ruc               0.000000\n",
            "dtype: float64\n"
          ]
        }
      ]
    },
    {
      "cell_type": "code",
      "metadata": {
        "colab": {
          "base_uri": "https://localhost:8080/"
        },
        "id": "HrxeXNFMvwZ7",
        "outputId": "c07a489a-92d5-4926-85c5-a087347ab0ab"
      },
      "source": [
        "bs_intermediary = pd.read_csv(\"/content/csv_bahamas_leaks.2017-11-17/bahamas_leaks.nodes.intermediary.csv\")\n",
        "bs_intermediary = klib.data_cleaning(bs_intermediary)\n",
        "\n",
        "print(\"Top Columns\")\n",
        "print(bs_intermediary.head(), end= \"\\n\\n\")\n",
        "print(\"rows, columns\")\n",
        "print(bs_intermediary.shape, end= \"\\n\\n\")\n",
        "print(\"Info\")\n",
        "print(bs_intermediary.info(), end= \"\\n\\n\")\n",
        "print(\"Number of Unique by Columns\")\n",
        "print(bs_intermediary.nunique(), end= \"\\n\\n\")\n",
        "print(\"\\033[4mPercentage of Missing Value\\033[0m\")\n",
        "print(bs_intermediary.isnull().sum() * 100 / len(bs_intermediary))"
      ],
      "execution_count": 13,
      "outputs": [
        {
          "output_type": "stream",
          "name": "stdout",
          "text": [
            "Shape of cleaned data: (541, 4)Remaining NAs: 4\n",
            "\n",
            "Changes:\n",
            "Dropped rows: 0\n",
            "     of which 0 duplicates. (Rows: [])\n",
            "Dropped columns: 14\n",
            "     of which 3 single valued.     Columns: ['labels_n', 'n_valid_until', 'n_source_id']\n",
            "Dropped missing values: 5949\n",
            "Reduced memory by at least: 0.06 MB (-85.71%)\n",
            "\n",
            "Top Columns\n",
            "  n_country_codes n_countries  n_node_id                             n_name\n",
            "0             NaN         NaN   23000001                      Internal User\n",
            "1             BHS     Bahamas   23000002   M & A CORPORATE SERVICES LIMITED\n",
            "2             BHS     Bahamas   23000003         BRITANNIA CONSULTING GROUP\n",
            "3             BHS     Bahamas   23000004                     ABACO FSC LTD.\n",
            "4             BHS     Bahamas   23000005  OL PRIVATE CORPORATE COUNSEL LTD.\n",
            "\n",
            "rows, columns\n",
            "(541, 4)\n",
            "\n",
            "Info\n",
            "<class 'pandas.core.frame.DataFrame'>\n",
            "RangeIndex: 541 entries, 0 to 540\n",
            "Data columns (total 4 columns):\n",
            " #   Column           Non-Null Count  Dtype   \n",
            "---  ------           --------------  -----   \n",
            " 0   n_country_codes  539 non-null    category\n",
            " 1   n_countries      539 non-null    category\n",
            " 2   n_node_id        541 non-null    int32   \n",
            " 3   n_name           541 non-null    string  \n",
            "dtypes: category(2), int32(1), string(1)\n",
            "memory usage: 7.7 KB\n",
            "None\n",
            "\n",
            "Number of Unique by Columns\n",
            "n_country_codes      1\n",
            "n_countries          1\n",
            "n_node_id          541\n",
            "n_name             541\n",
            "dtype: int64\n",
            "\n",
            "\u001b[4mPercentage of Missing Value\u001b[0m\n",
            "n_country_codes    0.369686\n",
            "n_countries        0.369686\n",
            "n_node_id          0.000000\n",
            "n_name             0.000000\n",
            "dtype: float64\n"
          ]
        }
      ]
    },
    {
      "cell_type": "code",
      "metadata": {
        "colab": {
          "base_uri": "https://localhost:8080/"
        },
        "id": "wIGd6iAwyfw3",
        "outputId": "4ab15f7c-c893-4b20-cc5c-c804e32dbd96"
      },
      "source": [
        "bs_officer = pd.read_csv(\"/content/csv_bahamas_leaks.2017-11-17/bahamas_leaks.nodes.officer.csv\")\n",
        "bs_officer = klib.data_cleaning(bs_officer)\n",
        "\n",
        "print(\"Top Columns\")\n",
        "print(bs_officer.head(), end= \"\\n\\n\")\n",
        "print(\"rows, columns\")\n",
        "print(bs_officer.shape, end= \"\\n\\n\")\n",
        "print(\"Info\")\n",
        "print(bs_officer.info(), end= \"\\n\\n\")\n",
        "print(\"Number of Unique by Columns\")\n",
        "print(bs_officer.nunique(), end= \"\\n\\n\")\n",
        "print(\"Number of Null by Columns\")\n",
        "print(bs_officer.isnull().sum())"
      ],
      "execution_count": 14,
      "outputs": [
        {
          "output_type": "stream",
          "name": "stdout",
          "text": [
            "Shape of cleaned data: (25262, 2)Remaining NAs: 0\n",
            "\n",
            "Changes:\n",
            "Dropped rows: 0\n",
            "     of which 0 duplicates. (Rows: [])\n",
            "Dropped columns: 16\n",
            "     of which 3 single valued.     Columns: ['labels_n', 'n_valid_until', 'n_source_id']\n",
            "Dropped missing values: 328161\n",
            "Reduced memory by at least: 3.18 MB (-91.64%)\n",
            "\n",
            "Top Columns\n",
            "   n_node_id                  n_name\n",
            "0   22013341    ALPHA DIRECTION LTD.\n",
            "1   22017206       GAMMA SECRETARIES\n",
            "2   22023260    THETA DIRECTION LTD.\n",
            "3   22006231    ALPHA DIRECTION LTD.\n",
            "4   22012516  GAMMA SECRETARIES LTD.\n",
            "\n",
            "rows, columns\n",
            "(25262, 2)\n",
            "\n",
            "Info\n",
            "<class 'pandas.core.frame.DataFrame'>\n",
            "RangeIndex: 25262 entries, 0 to 25261\n",
            "Data columns (total 2 columns):\n",
            " #   Column     Non-Null Count  Dtype \n",
            "---  ------     --------------  ----- \n",
            " 0   n_node_id  25262 non-null  int32 \n",
            " 1   n_name     25262 non-null  string\n",
            "dtypes: int32(1), string(1)\n",
            "memory usage: 296.2 KB\n",
            "None\n",
            "\n",
            "Number of Unique by Columns\n",
            "n_node_id    25262\n",
            "n_name        7143\n",
            "dtype: int64\n",
            "\n",
            "Number of Null by Columns\n",
            "n_node_id    0\n",
            "n_name       0\n",
            "dtype: int64\n"
          ]
        }
      ]
    },
    {
      "cell_type": "code",
      "metadata": {
        "colab": {
          "base_uri": "https://localhost:8080/"
        },
        "id": "Q9luriRGzlwb",
        "outputId": "42884c34-ca6a-4d87-9a16-fed84fdbcd3b"
      },
      "source": [
        "bs_others = pd.read_csv(\"/content/csv_bahamas_leaks.2017-11-17/bahamas_leaks.nodes.other.csv\")\n",
        "bs_others = klib.data_cleaning(bs_others)\n",
        "\n",
        "print(\"Top Columns\")\n",
        "print(bs_others.head(), end= \"\\n\\n\")\n",
        "print(\"rows, columns\")\n",
        "print(bs_others.shape, end= \"\\n\\n\")\n",
        "print(\"Info\")\n",
        "print(bs_others.info(), end= \"\\n\\n\")\n",
        "print(\"Number of Unique by Columns\")\n",
        "print(bs_others.nunique(), end= \"\\n\\n\")\n",
        "print(\"Number of Null by Columns\")\n",
        "print(bs_others.isnull().sum())"
      ],
      "execution_count": 15,
      "outputs": [
        {
          "output_type": "stream",
          "name": "stdout",
          "text": [
            "Shape of cleaned data: (0, 0)Remaining NAs: 0.0\n",
            "\n",
            "Changes:\n",
            "Dropped rows: 0\n",
            "     of which 0 duplicates. (Rows: [])\n",
            "Dropped columns: 18\n",
            "     of which 0 single valued.     Columns: []\n",
            "Dropped missing values: 0.0\n",
            "Reduced memory by at least: 0.0 MB (-nan%)\n",
            "\n",
            "Top Columns\n",
            "Empty DataFrame\n",
            "Columns: []\n",
            "Index: []\n",
            "\n",
            "rows, columns\n",
            "(0, 0)\n",
            "\n",
            "Info\n",
            "<class 'pandas.core.frame.DataFrame'>\n",
            "RangeIndex: 0 entries\n",
            "Empty DataFrameNone\n",
            "\n",
            "Number of Unique by Columns\n",
            "Series([], dtype: float64)\n",
            "\n",
            "Number of Null by Columns\n",
            "Series([], dtype: float64)\n"
          ]
        },
        {
          "output_type": "stream",
          "name": "stderr",
          "text": [
            "/usr/local/lib/python3.7/dist-packages/klib/utils.py:148: RuntimeWarning: invalid value encountered in double_scalars\n",
            "  mem_perc = round(100 * mem_change / data_mem, 2)\n"
          ]
        }
      ]
    },
    {
      "cell_type": "markdown",
      "metadata": {
        "id": "KSonlO1mE_hw"
      },
      "source": [
        "### Offshore leaks "
      ]
    },
    {
      "cell_type": "code",
      "metadata": {
        "id": "-hKWhGGTFdBs",
        "colab": {
          "base_uri": "https://localhost:8080/"
        },
        "outputId": "d6316c90-ac65-439c-da59-ba9628eb45ee"
      },
      "source": [
        "os_edges = pd.read_csv(\"/content/csv_offshore_leaks.2017-11-17/offshore_leaks.edges.csv\")\n",
        "os_edges = klib.data_cleaning(os_edges)\n",
        "\n",
        "print(\"\\033[4mTop Columns\\033[0m\")\n",
        "print(os_edges.head(), end= \"\\n\\n\")\n",
        "print(\"\\033[4mrows, columns\\033[0m\")\n",
        "print(os_edges.shape, end= \"\\n\\n\")\n",
        "print(\"\\033[4mInfo\\033[0m\")\n",
        "print(os_edges.info(), end= \"\\n\\n\")\n",
        "print(\"\\033[4mNumber of Unique by Columns\\033[0m\")\n",
        "print(os_edges.nunique(), end= \"\\n\\n\")\n",
        "print(\"\\033[4mNumber of Null by Columns\\033[0m\")\n",
        "print(os_edges.isnull().sum())"
      ],
      "execution_count": 16,
      "outputs": [
        {
          "output_type": "stream",
          "name": "stderr",
          "text": [
            "/usr/local/lib/python3.7/dist-packages/IPython/core/interactiveshell.py:2718: DtypeWarning: Columns (5,6) have mixed types.Specify dtype option on import or set low_memory=False.\n",
            "  interactivity=interactivity, compiler=compiler, result=result)\n"
          ]
        },
        {
          "output_type": "stream",
          "name": "stdout",
          "text": [
            "Shape of cleaned data: (518563, 4)Remaining NAs: 330650\n",
            "\n",
            "Changes:\n",
            "Dropped rows: 42830\n",
            "     of which 42830 duplicates. (Rows: [88973, 88979, 88980, 88983, 88991, 88992, 89000, 89001, 89002, 89003, 89005, 89015, 89018, 89026, 89029, 89032, 89040, 89043, 89069, 89072, 89087, 89090, 89093, 89095, 89098, 89100, 89102, 89109, 89110, 89113, 89122, 89131, 89143, 89163, 89183, 89195, 89198, 89213, 89226, 89227, 89230, 89233, 89237, 89248, 89251, 89254, 89257, 89261, 89268, 89280, 89281, 89284, 89287, 89300, 89303, 89313, 89330, 89335, 89342, 89345, 89358, 89359, 89360, 89364, 89365, 89367, 89368, 89377, 89382, 89383, 89399, 89413, 89421, 89426, 89429, 89432, 89434, 89443, 89446, 89447, 89450, 89462, 89467, 89470, 89474, 89476, 89479, 89483, 89492, 89494, 89496, 89499, 89501, 89516, 89519, 89535, 89549, 89557, 89568, 89585, 89597, 89605, 89612, 89616, 89630, 89644, 89646, 89650, 89658, 89661, 89662, 89665, 89670, 89671, 89674, 89683, 89686, 89688, 89691, 89694, 89697, 89704, 89720, 89728, 89731, 89732, 89740, 89743, 89754, 89757, 89758, 89761, 89762, 89769, 89772, 89775, 89780, 89785, 89788, 89795, 89803, 89806, 89811, 89813, 89816, 89819, 89821, 89830, 89835, 89860, 89967, 89971, 89973, 89976, 89978, 89980, 89983, 89986, 89994, 89997, 90010, 90014, 90019, 90022, 90030, 90034, 90035, 90042, 90044, 90048, 90052, 90056, 90059, 90065, 90070, 90072, 90085, 90088, 90091, 90094, 90103, 90106, 90108, 90110, 90113, 90117, 90121, 90124, 90129, 90139, 90144, 90155, 90158, 90173, 90180, 90184, 90185, 90199, 90202, 90254])\n",
            "Dropped columns: 3\n",
            "     of which 2 single valued.     Columns: ['r_source_id', 'r_valid_until']\n",
            "Dropped missing values: 531757\n",
            "Reduced memory by at least: 24.34 MB (-81.19%)\n",
            "\n",
            "\u001b[4mTop Columns\u001b[0m\n",
            "   node_1            rel_type  node_2 r_start_date\n",
            "0   67028  registered_address  263908          NaN\n",
            "1   67243  registered_address  172931          NaN\n",
            "2   67258  registered_address  264788          NaN\n",
            "3   67266  registered_address  263908          NaN\n",
            "4  108050  registered_address  285718          NaN\n",
            "\n",
            "\u001b[4mrows, columns\u001b[0m\n",
            "(518563, 4)\n",
            "\n",
            "\u001b[4mInfo\u001b[0m\n",
            "<class 'pandas.core.frame.DataFrame'>\n",
            "RangeIndex: 518563 entries, 0 to 518562\n",
            "Data columns (total 4 columns):\n",
            " #   Column        Non-Null Count   Dtype   \n",
            "---  ------        --------------   -----   \n",
            " 0   node_1        518563 non-null  int32   \n",
            " 1   rel_type      518563 non-null  category\n",
            " 2   node_2        518563 non-null  int32   \n",
            " 3   r_start_date  187913 non-null  category\n",
            "dtypes: category(2), int32(2)\n",
            "memory usage: 5.6 MB\n",
            "None\n",
            "\n",
            "\u001b[4mNumber of Unique by Columns\u001b[0m\n",
            "node_1          201519\n",
            "rel_type             4\n",
            "node_2          164251\n",
            "r_start_date      6240\n",
            "dtype: int64\n",
            "\n",
            "\u001b[4mNumber of Null by Columns\u001b[0m\n",
            "node_1               0\n",
            "rel_type             0\n",
            "node_2               0\n",
            "r_start_date    330650\n",
            "dtype: int64\n"
          ]
        }
      ]
    },
    {
      "cell_type": "code",
      "metadata": {
        "colab": {
          "base_uri": "https://localhost:8080/"
        },
        "id": "SLIZ0_dijABn",
        "outputId": "fa4541cd-cc11-4a04-f853-cf20bf4b03e4"
      },
      "source": [
        "os_address = pd.read_csv(\"/content/csv_offshore_leaks.2017-11-17/offshore_leaks.nodes.address.csv\")\n",
        "os_address = klib.data_cleaning(os_address)\n",
        "\n",
        "print(\"\\033[4mTop Columns\\033[0m\")\n",
        "print(os_address.head(), end= \"\\n\\n\")\n",
        "print(\"\\033[4mrows, columns\\033[0m\")\n",
        "print(os_address.shape, end= \"\\n\\n\")\n",
        "print(\"\\033[4mInfo\\033[0m\")\n",
        "print(os_address.info(), end= \"\\n\\n\")\n",
        "print(\"\\033[4mNumber of Unique by Columns\\033[0m\")\n",
        "print(os_address.nunique(), end= \"\\n\\n\")\n",
        "print(\"\\033[4mNumber of Null by Columns\\033[0m\")\n",
        "print(os_address.isnull().sum())"
      ],
      "execution_count": 17,
      "outputs": [
        {
          "output_type": "stream",
          "name": "stdout",
          "text": [
            "Shape of cleaned data: (57600, 4)Remaining NAs: 8\n",
            "\n",
            "Changes:\n",
            "Dropped rows: 0\n",
            "     of which 0 duplicates. (Rows: [])\n",
            "Dropped columns: 14\n",
            "     of which 3 single valued.     Columns: ['labels_n', 'n_valid_until', 'n_source_id']\n",
            "Dropped missing values: 633600\n",
            "Reduced memory by at least: 7.02 MB (-88.75%)\n",
            "\n",
            "\u001b[4mTop Columns\u001b[0m\n",
            "  n_country_codes     n_countries  n_node_id                                          n_address\n",
            "0             XXX  Not identified    2004267                       One Bearer Secured Debenture\n",
            "1             HKG       Hong Kong      67277               11 Coomber Road, The Peak, Hong Kong\n",
            "2             GIB       Gibraltar      67346                4 Irish Place 2nd Floor, Gibraltar.\n",
            "3             HKG       Hong Kong      67278  11A, Branksome 3 Tregunter Path Mid-Levels Hon...\n",
            "4             GBR  United Kingdom      67282        14 Lysander Road West Mailing Kent ME19 4TT\n",
            "\n",
            "\u001b[4mrows, columns\u001b[0m\n",
            "(57600, 4)\n",
            "\n",
            "\u001b[4mInfo\u001b[0m\n",
            "<class 'pandas.core.frame.DataFrame'>\n",
            "RangeIndex: 57600 entries, 0 to 57599\n",
            "Data columns (total 4 columns):\n",
            " #   Column           Non-Null Count  Dtype   \n",
            "---  ------           --------------  -----   \n",
            " 0   n_country_codes  57596 non-null  category\n",
            " 1   n_countries      57596 non-null  category\n",
            " 2   n_node_id        57600 non-null  int32   \n",
            " 3   n_address        57600 non-null  string  \n",
            "dtypes: category(2), int32(1), string(1)\n",
            "memory usage: 912.8 KB\n",
            "None\n",
            "\n",
            "\u001b[4mNumber of Unique by Columns\u001b[0m\n",
            "n_country_codes      172\n",
            "n_countries          172\n",
            "n_node_id          57600\n",
            "n_address          57479\n",
            "dtype: int64\n",
            "\n",
            "\u001b[4mNumber of Null by Columns\u001b[0m\n",
            "n_country_codes    4\n",
            "n_countries        4\n",
            "n_node_id          0\n",
            "n_address          0\n",
            "dtype: int64\n"
          ]
        }
      ]
    },
    {
      "cell_type": "code",
      "metadata": {
        "colab": {
          "base_uri": "https://localhost:8080/"
        },
        "id": "IDuAE8imrHIM",
        "outputId": "476bfa24-b171-4092-b220-165a58e8a13e"
      },
      "source": [
        "os_entity = pd.read_csv(\"/content/csv_offshore_leaks.2017-11-17/offshore_leaks.nodes.entity.csv\")\n",
        "os_entity = klib.data_cleaning(os_entity)\n",
        "\n",
        "print(\"\\033[4mTop Columns\\033[0m\")\n",
        "print(os_entity.head(), end= \"\\n\\n\")\n",
        "print(\"\\033[4mrows, columns\\033[0m\")\n",
        "print(os_entity.shape, end= \"\\n\\n\")\n",
        "print(\"\\033[4mInfo\\033[0m\")\n",
        "print(os_entity.info(), end= \"\\n\\n\")\n",
        "print(\"\\033[4mNumber of Unique by Columns\\033[0m\")\n",
        "print(os_entity.nunique(), end= \"\\n\\n\")\n",
        "print(\"\\033[4mNumber of Null by Columns\\033[0m\")\n",
        "print(os_entity.isnull().sum())"
      ],
      "execution_count": 18,
      "outputs": [
        {
          "output_type": "stream",
          "name": "stdout",
          "text": [
            "Long column names detected (>25 characters). Consider renaming the following columns ['n_jurisdiction_description'].\n",
            "Shape of cleaned data: (105516, 12)Remaining NAs: 52392\n",
            "\n",
            "Changes:\n",
            "Dropped rows: 0\n",
            "     of which 0 duplicates. (Rows: [])\n",
            "Dropped columns: 6\n",
            "     of which 3 single valued.     Columns: ['labels_n', 'n_valid_until', 'n_source_id']\n",
            "Dropped missing values: 307562\n",
            "Reduced memory by at least: 10.42 MB (-71.91%)\n",
            "\n",
            "\u001b[4mTop Columns\u001b[0m\n",
            "  n_country_codes                            n_countries  n_node_id                                          n_address           n_name n_jurisdiction_description          n_service_provider n_jurisdiction n_incorporation_date n_ibc_ruc         n_status                              n_company_type\n",
            "0         VGB;CYP          British Virgin Islands;Cyprus      67028  Christabel Corporate Services Limited Christab...       ZODIAK LTD               Undetermined  Commonwealth Trust Limited            XXX          24-AUG-2007   1427813             Dead          Business Company Limited by Shares\n",
            "1         XXX;VGB  Not identified;British Virgin Islands      67243      Alesta Consulting, S.A. INVOICE BY EMAIL ONLY        Zven Ltd.               Undetermined  Commonwealth Trust Limited            XXX          29-JAN-2007   1382756             Dead          Business Company Limited by Shares\n",
            "2         SGP;VGB       Singapore;British Virgin Islands      67258  Express Co Registration Pte Ltd 138 Cecil Stre...   Anson 11A Ltd.               Undetermined  Commonwealth Trust Limited            XXX          09-MAY-2000    386675       Liquidated  The GRA group of Companies for express Co.\n",
            "3         CYP;VGB          Cyprus;British Virgin Islands      67266  Christabel Corporate Services Limited Christab...        GIADA LTD               Undetermined  Commonwealth Trust Limited            XXX          14-JUN-2007   1411204  Transferred OUT          Business Company Limited by Shares\n",
            "4         USA;XXX           United States;Not identified     108050  Scott D. Howard P.O. Box 811 Brunswick ME 0401...  Scott D. Howard               Undetermined  Commonwealth Trust Limited            XXX                 <NA>      <NA>              NaN                              Sundry Account\n",
            "\n",
            "\u001b[4mrows, columns\u001b[0m\n",
            "(105516, 12)\n",
            "\n",
            "\u001b[4mInfo\u001b[0m\n",
            "<class 'pandas.core.frame.DataFrame'>\n",
            "RangeIndex: 105516 entries, 0 to 105515\n",
            "Data columns (total 12 columns):\n",
            " #   Column                      Non-Null Count   Dtype   \n",
            "---  ------                      --------------   -----   \n",
            " 0   n_country_codes             105516 non-null  category\n",
            " 1   n_countries                 105516 non-null  category\n",
            " 2   n_node_id                   105516 non-null  int32   \n",
            " 3   n_address                   85750 non-null   category\n",
            " 4   n_name                      105516 non-null  string  \n",
            " 5   n_jurisdiction_description  105516 non-null  category\n",
            " 6   n_service_provider          105516 non-null  category\n",
            " 7   n_jurisdiction              105516 non-null  category\n",
            " 8   n_incorporation_date        96137 non-null   string  \n",
            " 9   n_ibc_ruc                   93599 non-null   string  \n",
            " 10  n_status                    96475 non-null   category\n",
            " 11  n_company_type              103227 non-null  category\n",
            "dtypes: category(8), int32(1), string(3)\n",
            "memory usage: 4.1 MB\n",
            "None\n",
            "\n",
            "\u001b[4mNumber of Unique by Columns\u001b[0m\n",
            "n_country_codes                  400\n",
            "n_countries                      400\n",
            "n_node_id                     105516\n",
            "n_address                       1976\n",
            "n_name                        105114\n",
            "n_jurisdiction_description        28\n",
            "n_service_provider                 2\n",
            "n_jurisdiction                    27\n",
            "n_incorporation_date            4868\n",
            "n_ibc_ruc                      93077\n",
            "n_status                          21\n",
            "n_company_type                    55\n",
            "dtype: int64\n",
            "\n",
            "\u001b[4mNumber of Null by Columns\u001b[0m\n",
            "n_country_codes                   0\n",
            "n_countries                       0\n",
            "n_node_id                         0\n",
            "n_address                     19766\n",
            "n_name                            0\n",
            "n_jurisdiction_description        0\n",
            "n_service_provider                0\n",
            "n_jurisdiction                    0\n",
            "n_incorporation_date           9379\n",
            "n_ibc_ruc                     11917\n",
            "n_status                       9041\n",
            "n_company_type                 2289\n",
            "dtype: int64\n"
          ]
        }
      ]
    },
    {
      "cell_type": "code",
      "metadata": {
        "colab": {
          "base_uri": "https://localhost:8080/"
        },
        "id": "asOgYcnBrG3n",
        "outputId": "cd9bb5c9-d945-45e9-9c45-30299c22789c"
      },
      "source": [
        "os_intermediary = pd.read_csv(\"/content/csv_offshore_leaks.2017-11-17/offshore_leaks.nodes.intermediary.csv\")\n",
        "os_intermediary = klib.data_cleaning(os_intermediary)\n",
        "\n",
        "print(\"\\033[4mTop Columns\\033[0m\")\n",
        "print(os_intermediary.head(), end= \"\\n\\n\")\n",
        "print(\"\\033[4mrows, columns\\033[0m\")\n",
        "print(os_intermediary.shape, end= \"\\n\\n\")\n",
        "print(\"\\033[4mInfo\\033[0m\")\n",
        "print(os_intermediary.info(), end= \"\\n\\n\")\n",
        "print(\"\\033[4mNumber of Unique by Columns\\033[0m\")\n",
        "print(os_intermediary.nunique(), end= \"\\n\\n\")\n",
        "print(\"\\033[4mNumber of Null by Columns\\033[0m\")\n",
        "print(os_intermediary.isnull().sum())"
      ],
      "execution_count": 19,
      "outputs": [
        {
          "output_type": "stream",
          "name": "stdout",
          "text": [
            "Shape of cleaned data: (9526, 5)Remaining NAs: 1\n",
            "\n",
            "Changes:\n",
            "Dropped rows: 0\n",
            "     of which 0 duplicates. (Rows: [])\n",
            "Dropped columns: 13\n",
            "     of which 2 single valued.     Columns: ['n_valid_until', 'n_source_id']\n",
            "Dropped missing values: 104785\n",
            "Reduced memory by at least: 1.14 MB (-87.02%)\n",
            "\n",
            "\u001b[4mTop Columns\u001b[0m\n",
            "                     labels_n n_country_codes           n_countries  n_node_id               n_name\n",
            "0  [\"Officer\",\"Intermediary\"]             TWN                Taiwan      51122     Peng, Wan-Hsiung\n",
            "1  [\"Officer\",\"Intermediary\"]             ARE  United Arab Emirates      51149       Shin Tae Young\n",
            "2  [\"Officer\",\"Intermediary\"]             HKG             Hong Kong      51162           Lin Celina\n",
            "3  [\"Officer\",\"Intermediary\"]             USA         United States      51224  R E Douglas B Juday\n",
            "4  [\"Officer\",\"Intermediary\"]             SGP             Singapore      51270      Chun Thong Ping\n",
            "\n",
            "\u001b[4mrows, columns\u001b[0m\n",
            "(9526, 5)\n",
            "\n",
            "\u001b[4mInfo\u001b[0m\n",
            "<class 'pandas.core.frame.DataFrame'>\n",
            "RangeIndex: 9526 entries, 0 to 9525\n",
            "Data columns (total 5 columns):\n",
            " #   Column           Non-Null Count  Dtype   \n",
            "---  ------           --------------  -----   \n",
            " 0   labels_n         9526 non-null   category\n",
            " 1   n_country_codes  9526 non-null   category\n",
            " 2   n_countries      9526 non-null   category\n",
            " 3   n_node_id        9526 non-null   int32   \n",
            " 4   n_name           9525 non-null   string  \n",
            "dtypes: category(3), int32(1), string(1)\n",
            "memory usage: 170.5 KB\n",
            "None\n",
            "\n",
            "\u001b[4mNumber of Unique by Columns\u001b[0m\n",
            "labels_n              2\n",
            "n_country_codes     137\n",
            "n_countries         137\n",
            "n_node_id          9526\n",
            "n_name             9479\n",
            "dtype: int64\n",
            "\n",
            "\u001b[4mNumber of Null by Columns\u001b[0m\n",
            "labels_n           0\n",
            "n_country_codes    0\n",
            "n_countries        0\n",
            "n_node_id          0\n",
            "n_name             1\n",
            "dtype: int64\n"
          ]
        }
      ]
    },
    {
      "cell_type": "code",
      "metadata": {
        "colab": {
          "base_uri": "https://localhost:8080/"
        },
        "id": "x4SPzKubrzx3",
        "outputId": "c25d53f6-281e-49cc-b2d8-5bc509f4770c"
      },
      "source": [
        "os_officer = pd.read_csv(\"/content/csv_offshore_leaks.2017-11-17/offshore_leaks.nodes.officer.csv\")\n",
        "os_officer = klib.data_cleaning(os_officer)\n",
        "\n",
        "print(\"\\033[4mTop Columns\\033[0m\")\n",
        "print(os_officer.head(), end= \"\\n\\n\")\n",
        "print(\"\\033[4mrows, columns\\033[0m\")\n",
        "print(os_officer.shape, end= \"\\n\\n\")\n",
        "print(\"\\033[4mInfo\\033[0m\")\n",
        "print(os_officer.info(), end= \"\\n\\n\")\n",
        "print(\"\\033[4mNumber of Unique by Columns\\033[0m\")\n",
        "print(os_officer.nunique(), end= \"\\n\\n\")\n",
        "print(\"\\033[4mNumber of Null by Columns\\033[0m\")\n",
        "print(os_officer.isnull().sum())"
      ],
      "execution_count": 20,
      "outputs": [
        {
          "output_type": "stream",
          "name": "stderr",
          "text": [
            "/usr/local/lib/python3.7/dist-packages/IPython/core/interactiveshell.py:2718: DtypeWarning: Columns (17) have mixed types.Specify dtype option on import or set low_memory=False.\n",
            "  interactivity=interactivity, compiler=compiler, result=result)\n"
          ]
        },
        {
          "output_type": "stream",
          "name": "stdout",
          "text": [
            "Shape of cleaned data: (107190, 5)Remaining NAs: 66\n",
            "\n",
            "Changes:\n",
            "Dropped rows: 0\n",
            "     of which 0 duplicates. (Rows: [])\n",
            "Dropped columns: 13\n",
            "     of which 2 single valued.     Columns: ['n_valid_until', 'n_source_id']\n",
            "Dropped missing values: 1179089\n",
            "Reduced memory by at least: 12.96 MB (-88.04%)\n",
            "\n",
            "\u001b[4mTop Columns\u001b[0m\n",
            "      labels_n n_country_codes             n_countries  n_node_id                                n_name\n",
            "0  [\"Officer\"]             VGB  British Virgin Islands      51113        Bisbro Investment Company Ltd.\n",
            "1  [\"Officer\"]             MYS                Malaysia      51114  Mohamed Mustafa Bin A Mohamed Ismail\n",
            "2  [\"Officer\"]             HKG               Hong Kong      51115                          Teh Hong Eng\n",
            "3  [\"Officer\"]             VGB  British Virgin Islands      51116        New Sights Enterprises Limited\n",
            "4  [\"Officer\"]             SGP               Singapore      51117                         Yong Meow Mui\n",
            "\n",
            "\u001b[4mrows, columns\u001b[0m\n",
            "(107190, 5)\n",
            "\n",
            "\u001b[4mInfo\u001b[0m\n",
            "<class 'pandas.core.frame.DataFrame'>\n",
            "RangeIndex: 107190 entries, 0 to 107189\n",
            "Data columns (total 5 columns):\n",
            " #   Column           Non-Null Count   Dtype   \n",
            "---  ------           --------------   -----   \n",
            " 0   labels_n         107190 non-null  category\n",
            " 1   n_country_codes  107186 non-null  category\n",
            " 2   n_countries      107186 non-null  category\n",
            " 3   n_node_id        107190 non-null  int32   \n",
            " 4   n_name           107132 non-null  string  \n",
            "dtypes: category(3), int32(1), string(1)\n",
            "memory usage: 1.8 MB\n",
            "None\n",
            "\n",
            "\u001b[4mNumber of Unique by Columns\u001b[0m\n",
            "labels_n                2\n",
            "n_country_codes       249\n",
            "n_countries           249\n",
            "n_node_id          107190\n",
            "n_name              95689\n",
            "dtype: int64\n",
            "\n",
            "\u001b[4mNumber of Null by Columns\u001b[0m\n",
            "labels_n            0\n",
            "n_country_codes     4\n",
            "n_countries         4\n",
            "n_node_id           0\n",
            "n_name             58\n",
            "dtype: int64\n"
          ]
        }
      ]
    },
    {
      "cell_type": "code",
      "metadata": {
        "colab": {
          "base_uri": "https://localhost:8080/"
        },
        "id": "iAi-aBaUltlg",
        "outputId": "f64b8ca9-5c97-42e5-f706-180c9e0221b9"
      },
      "source": [
        "os_others = pd.read_csv(\"/content/csv_offshore_leaks.2017-11-17/offshore_leaks.nodes.other.csv\")\n",
        "os_others = klib.data_cleaning(os_others)\n",
        "\n",
        "print(\"\\033[4mTop Columns\\033[0m\")\n",
        "print(os_others.head(), end= \"\\n\\n\")\n",
        "print(\"\\033[4mrows, columns\\033[0m\")\n",
        "print(os_others.shape, end= \"\\n\\n\")\n",
        "print(\"\\033[4mInfo\\033[0m\")\n",
        "print(os_others.info(), end= \"\\n\\n\")\n",
        "print(\"\\033[4mNumber of Unique by Columns\\033[0m\")\n",
        "print(os_others.nunique(), end= \"\\n\\n\")\n",
        "print(\"\\033[4mNumber of Null by Columns\\033[0m\")\n",
        "print(os_others.isnull().sum())"
      ],
      "execution_count": 21,
      "outputs": [
        {
          "output_type": "stream",
          "name": "stdout",
          "text": [
            "Shape of cleaned data: (0, 0)Remaining NAs: 0.0\n",
            "\n",
            "Changes:\n",
            "Dropped rows: 0\n",
            "     of which 0 duplicates. (Rows: [])\n",
            "Dropped columns: 18\n",
            "     of which 0 single valued.     Columns: []\n",
            "Dropped missing values: 0.0\n",
            "Reduced memory by at least: 0.0 MB (-nan%)\n",
            "\n",
            "\u001b[4mTop Columns\u001b[0m\n",
            "Empty DataFrame\n",
            "Columns: []\n",
            "Index: []\n",
            "\n",
            "\u001b[4mrows, columns\u001b[0m\n",
            "(0, 0)\n",
            "\n",
            "\u001b[4mInfo\u001b[0m\n",
            "<class 'pandas.core.frame.DataFrame'>\n",
            "RangeIndex: 0 entries\n",
            "Empty DataFrameNone\n",
            "\n",
            "\u001b[4mNumber of Unique by Columns\u001b[0m\n",
            "Series([], dtype: float64)\n",
            "\n",
            "\u001b[4mNumber of Null by Columns\u001b[0m\n",
            "Series([], dtype: float64)\n"
          ]
        },
        {
          "output_type": "stream",
          "name": "stderr",
          "text": [
            "/usr/local/lib/python3.7/dist-packages/klib/utils.py:148: RuntimeWarning: invalid value encountered in double_scalars\n",
            "  mem_perc = round(100 * mem_change / data_mem, 2)\n"
          ]
        }
      ]
    },
    {
      "cell_type": "markdown",
      "metadata": {
        "id": "wOVOWzPZKZH5"
      },
      "source": [
        "###Panama Papers "
      ]
    },
    {
      "cell_type": "code",
      "metadata": {
        "id": "jEjuwrYqKmte",
        "colab": {
          "base_uri": "https://localhost:8080/"
        },
        "outputId": "46b476d9-6091-4826-d2d9-6547bd9dec85"
      },
      "source": [
        "pn_edges = pd.read_csv(\"/content/csv_panama_papers.2017-11-17/panama_papers.edges.csv\")\n",
        "pn_edges = klib.data_cleaning(pn_edges)\n",
        "\n",
        "print(\"\\033[4mTop Columns\\033[0m\")\n",
        "print(pn_edges.head(), end= \"\\n\\n\")\n",
        "print(\"\\033[4mrows, columns\\033[0m\")\n",
        "print(pn_edges.shape, end= \"\\n\\n\")\n",
        "print(\"\\033[4mInfo\\033[0m\")\n",
        "print(pn_edges.info(), end= \"\\n\\n\")\n",
        "print(\"\\033[4mNumber of Unique by Columns\\033[0m\")\n",
        "print(pn_edges.nunique(), end= \"\\n\\n\")\n",
        "print(\"\\033[4mPercentage of Missing Value\\033[0m\")\n",
        "print(pn_edges.isnull().sum() * 100 / len(pn_edges))"
      ],
      "execution_count": 23,
      "outputs": [
        {
          "output_type": "stream",
          "name": "stderr",
          "text": [
            "/usr/local/lib/python3.7/dist-packages/IPython/core/interactiveshell.py:2718: DtypeWarning: Columns (5,6) have mixed types.Specify dtype option on import or set low_memory=False.\n",
            "  interactivity=interactivity, compiler=compiler, result=result)\n"
          ]
        },
        {
          "output_type": "stream",
          "name": "stdout",
          "text": [
            "Shape of cleaned data: (674094, 6)Remaining NAs: 983102\n",
            "\n",
            "Changes:\n",
            "Dropped rows: 8\n",
            "     of which 8 duplicates. (Rows: [380788, 434647, 673996, 674005, 674015, 674016, 674085, 674086])\n",
            "Dropped columns: 1\n",
            "     of which 1 single valued.     Columns: ['r_source_id']\n",
            "Dropped missing values: 16\n",
            "Reduced memory by at least: 26.26 MB (-72.94%)\n",
            "\n",
            "\u001b[4mTop Columns\u001b[0m\n",
            "     node_1            rel_type    node_2 r_valid_until r_start_date r_end_date\n",
            "0  10000035  registered_address  14095990           NaN          NaN        NaN\n",
            "1  10000044  registered_address  14091035           NaN          NaN        NaN\n",
            "2  10000055  registered_address  14095990           NaN          NaN        NaN\n",
            "3  10000064  registered_address  14091429           NaN          NaN        NaN\n",
            "4  10000089  registered_address  14098253           NaN          NaN        NaN\n",
            "\n",
            "\u001b[4mrows, columns\u001b[0m\n",
            "(674094, 6)\n",
            "\n",
            "\u001b[4mInfo\u001b[0m\n",
            "<class 'pandas.core.frame.DataFrame'>\n",
            "RangeIndex: 674094 entries, 0 to 674093\n",
            "Data columns (total 6 columns):\n",
            " #   Column         Non-Null Count   Dtype   \n",
            "---  ------         --------------   -----   \n",
            " 0   node_1         674094 non-null  int32   \n",
            " 1   rel_type       674094 non-null  category\n",
            " 2   node_2         674094 non-null  int32   \n",
            " 3   r_valid_until  668784 non-null  category\n",
            " 4   r_start_date   290874 non-null  category\n",
            " 5   r_end_date     79522 non-null   category\n",
            "dtypes: category(4), int32(2)\n",
            "memory usage: 9.7 MB\n",
            "None\n",
            "\n",
            "\u001b[4mNumber of Unique by Columns\u001b[0m\n",
            "node_1           257667\n",
            "rel_type              3\n",
            "node_2           307082\n",
            "r_valid_until         2\n",
            "r_start_date       8900\n",
            "r_end_date         6367\n",
            "dtype: int64\n",
            "\n",
            "\u001b[4mPercentage of Missing Value\u001b[0m\n",
            "node_1            0.000000\n",
            "rel_type          0.000000\n",
            "node_2            0.000000\n",
            "r_valid_until     0.787724\n",
            "r_start_date     56.849638\n",
            "r_end_date       88.203129\n",
            "dtype: float64\n"
          ]
        }
      ]
    },
    {
      "cell_type": "code",
      "metadata": {
        "colab": {
          "base_uri": "https://localhost:8080/"
        },
        "id": "Kp48obQQ15hv",
        "outputId": "421a4715-7837-4a71-8dc7-35f08a57649f"
      },
      "source": [
        "pn_address = pd.read_csv(\"/content/csv_panama_papers.2017-11-17/panama_papers.nodes.address.csv\")\n",
        "pn_address = klib.data_cleaning(pn_address)\n",
        "\n",
        "print(\"\\033[4mTop Columns\\033[0m\")\n",
        "print(pn_address.head(), end= \"\\n\\n\")\n",
        "print(\"\\033[4mrows, columns\\033[0m\")\n",
        "print(pn_address.shape, end= \"\\n\\n\")\n",
        "print(\"\\033[4mInfo\\033[0m\")\n",
        "print(pn_address.info(), end= \"\\n\\n\")\n",
        "print(\"\\033[4mNumber of Unique by Columns\\033[0m\")\n",
        "print(pn_address.nunique(), end= \"\\n\\n\")\n",
        "print(\"\\033[4mPercentage of Missing Value\\033[0m\")\n",
        "print(pn_address.isnull().sum() * 100 / len(pn_address))"
      ],
      "execution_count": 25,
      "outputs": [
        {
          "output_type": "stream",
          "name": "stdout",
          "text": [
            "Shape of cleaned data: (93454, 4)Remaining NAs: 1775\n",
            "\n",
            "Changes:\n",
            "Dropped rows: 0\n",
            "     of which 0 duplicates. (Rows: [])\n",
            "Dropped columns: 14\n",
            "     of which 3 single valued.     Columns: ['labels_n', 'n_valid_until', 'n_source_id']\n",
            "Dropped missing values: 1027994\n",
            "Reduced memory by at least: 11.38 MB (-88.7%)\n",
            "\n",
            "\u001b[4mTop Columns\u001b[0m\n",
            "  n_country_codes     n_countries  n_node_id                                          n_address\n",
            "0             SGP       Singapore   14000001        -\t27 ROSEWOOD DRIVE #16-19 SINGAPORE 737920\n",
            "1             KAZ      Kazakhstan   14000002            \"Almaly Village\" v.5, Almaty Kazakhstan\n",
            "2             GBR  United Kingdom   14000003  \"Cantonia\" South Road St Georges Hill Weybridg...\n",
            "3             GGY        Guernsey   14000004  \"CAY-OS\" NEW ROAD; ST.SAMPSON; GUERNSEY; CHANN...\n",
            "4             KEN           Kenya   14000005  \"Chirag\" Plot No 652; Mwamba Road; Kizingo; Mo...\n",
            "\n",
            "\u001b[4mrows, columns\u001b[0m\n",
            "(93454, 4)\n",
            "\n",
            "\u001b[4mInfo\u001b[0m\n",
            "<class 'pandas.core.frame.DataFrame'>\n",
            "RangeIndex: 93454 entries, 0 to 93453\n",
            "Data columns (total 4 columns):\n",
            " #   Column           Non-Null Count  Dtype   \n",
            "---  ------           --------------  -----   \n",
            " 0   n_country_codes  92567 non-null  category\n",
            " 1   n_countries      92567 non-null  category\n",
            " 2   n_node_id        93454 non-null  int32   \n",
            " 3   n_address        93453 non-null  string  \n",
            "dtypes: category(2), int32(1), string(1)\n",
            "memory usage: 1.4 MB\n",
            "None\n",
            "\n",
            "\u001b[4mNumber of Unique by Columns\u001b[0m\n",
            "n_country_codes      202\n",
            "n_countries          202\n",
            "n_node_id          93454\n",
            "n_address          93452\n",
            "dtype: int64\n",
            "\n",
            "\u001b[4mPercentage of Missing Value\u001b[0m\n",
            "n_country_codes    0.94913\n",
            "n_countries        0.94913\n",
            "n_node_id          0.00000\n",
            "n_address          0.00107\n",
            "dtype: float64\n"
          ]
        }
      ]
    },
    {
      "cell_type": "code",
      "metadata": {
        "colab": {
          "base_uri": "https://localhost:8080/"
        },
        "id": "VFI38onU2kUZ",
        "outputId": "8b67870a-d606-46f1-efa8-b0f74d1f0668"
      },
      "source": [
        "pn_entity = pd.read_csv(\"/content/csv_panama_papers.2017-11-17/panama_papers.nodes.entity.csv\")\n",
        "pn_entity = klib.data_cleaning(pn_entity)\n",
        "\n",
        "print(\"\\033[4mTop Columns\\033[0m\")\n",
        "print(pn_entity.head(), end= \"\\n\\n\")\n",
        "print(\"\\033[4mrows, columns\\033[0m\")\n",
        "print(pn_entity.shape, end= \"\\n\\n\")\n",
        "print(\"\\033[4mInfo\\033[0m\")\n",
        "print(pn_entity.info(), end= \"\\n\\n\")\n",
        "print(\"\\033[4mNumber of Unique by Columns\\033[0m\")\n",
        "print(pn_entity.nunique(), end= \"\\n\\n\")\n",
        "print(\"\\033[4mPercentage of Missing Value\\033[0m\")\n",
        "print(pn_entity.isnull().sum() * 100 / len(pn_entity))"
      ],
      "execution_count": 27,
      "outputs": [
        {
          "output_type": "stream",
          "name": "stderr",
          "text": [
            "/usr/local/lib/python3.7/dist-packages/IPython/core/interactiveshell.py:2718: DtypeWarning: Columns (17) have mixed types.Specify dtype option on import or set low_memory=False.\n",
            "  interactivity=interactivity, compiler=compiler, result=result)\n"
          ]
        },
        {
          "output_type": "stream",
          "name": "stdout",
          "text": [
            "Long column names detected (>25 characters). Consider renaming the following columns ['n_jurisdiction_description'].\n",
            "Shape of cleaned data: (213634, 10)Remaining NAs: 53550\n",
            "\n",
            "Changes:\n",
            "Dropped rows: 0\n",
            "     of which 0 duplicates. (Rows: [])\n",
            "Dropped columns: 8\n",
            "     of which 4 single valued.     Columns: ['labels_n', 'n_valid_until', 'n_source_id', 'n_service_provider']\n",
            "Dropped missing values: 854529\n",
            "Reduced memory by at least: 20.56 MB (-70.07%)\n",
            "\n",
            "\u001b[4mTop Columns\u001b[0m\n",
            "  n_country_codes n_countries  n_node_id                                          n_address                                       n_name n_jurisdiction_description n_jurisdiction n_incorporation_date n_ibc_ruc       n_status\n",
            "0             HKG   Hong Kong   10000001  ORION HOUSE SERVICES (HK) LIMITED ROOM 1401; 1...     TIANSHENG INDUSTRY AND TRADING CO., LTD.                      Samoa            SAM          23-MAR-2006     25221      Defaulted\n",
            "1             HKG   Hong Kong   10000002  ORION HOUSE SERVICES (HK) LIMITED ROOM 1401; 1...  NINGBO SUNRISE ENTERPRISES UNITED CO., LTD.                      Samoa            SAM          27-MAR-2006     25249      Defaulted\n",
            "2             HKG   Hong Kong   10000003  ORION HOUSE SERVICES (HK) LIMITED ROOM 1401; 1...                           HOTFOCUS CO., LTD.                      Samoa            SAM          10-JAN-2006     24138      Defaulted\n",
            "3             HKG   Hong Kong   10000004  ORION HOUSE SERVICES (HK) LIMITED ROOM 1401; 1...              SKY-BLUE GIFTS & TOYS CO., LTD.                      Samoa            SAM          06-JAN-2006     24012      Defaulted\n",
            "4             HKG   Hong Kong   10000005  LOYAL PORT LIMITED 8/F; CRAWFORD TOWER 99 JERV...         FORTUNEMAKER INVESTMENTS CORPORATION                      Samoa            SAM          19-APR-2006    R25638  Changed agent\n",
            "\n",
            "\u001b[4mrows, columns\u001b[0m\n",
            "(213634, 10)\n",
            "\n",
            "\u001b[4mInfo\u001b[0m\n",
            "<class 'pandas.core.frame.DataFrame'>\n",
            "RangeIndex: 213634 entries, 0 to 213633\n",
            "Data columns (total 10 columns):\n",
            " #   Column                      Non-Null Count   Dtype   \n",
            "---  ------                      --------------   -----   \n",
            " 0   n_country_codes             212844 non-null  category\n",
            " 1   n_countries                 212844 non-null  category\n",
            " 2   n_node_id                   213634 non-null  int32   \n",
            " 3   n_address                   213569 non-null  string  \n",
            " 4   n_name                      213630 non-null  string  \n",
            " 5   n_jurisdiction_description  213634 non-null  category\n",
            " 6   n_jurisdiction              213634 non-null  category\n",
            " 7   n_incorporation_date        213599 non-null  string  \n",
            " 8   n_ibc_ruc                   161771 non-null  string  \n",
            " 9   n_status                    213631 non-null  category\n",
            "dtypes: category(5), int32(1), string(4)\n",
            "memory usage: 8.8 MB\n",
            "None\n",
            "\n",
            "\u001b[4mNumber of Unique by Columns\u001b[0m\n",
            "n_country_codes                  159\n",
            "n_countries                      159\n",
            "n_node_id                     213634\n",
            "n_address                      18602\n",
            "n_name                        206525\n",
            "n_jurisdiction_description        21\n",
            "n_jurisdiction                    21\n",
            "n_incorporation_date            9493\n",
            "n_ibc_ruc                     120046\n",
            "n_status                          17\n",
            "dtype: int64\n",
            "\n",
            "\u001b[4mPercentage of Missing Value\u001b[0m\n",
            "n_country_codes                0.369791\n",
            "n_countries                    0.369791\n",
            "n_node_id                      0.000000\n",
            "n_address                      0.030426\n",
            "n_name                         0.001872\n",
            "n_jurisdiction_description     0.000000\n",
            "n_jurisdiction                 0.000000\n",
            "n_incorporation_date           0.016383\n",
            "n_ibc_ruc                     24.276566\n",
            "n_status                       0.001404\n",
            "dtype: float64\n"
          ]
        }
      ]
    },
    {
      "cell_type": "code",
      "metadata": {
        "colab": {
          "base_uri": "https://localhost:8080/"
        },
        "id": "HtXGPfzE29CQ",
        "outputId": "f833e15b-6f0c-4d9f-ca95-a035eece925f"
      },
      "source": [
        "pn_intermediary = pd.read_csv(\"/content/csv_panama_papers.2017-11-17/panama_papers.nodes.intermediary.csv\")\n",
        "pn_intermediary = klib.data_cleaning(pn_intermediary)\n",
        "\n",
        "print(\"\\033[4mTop Columns\\033[0m\")\n",
        "print(pn_intermediary.head(), end= \"\\n\\n\")\n",
        "print(\"\\033[4mrows, columns\\033[0m\")\n",
        "print(pn_intermediary.shape, end= \"\\n\\n\")\n",
        "print(\"\\033[4mInfo\\033[0m\")\n",
        "print(pn_intermediary.info(), end= \"\\n\\n\")\n",
        "print(\"\\033[4mNumber of Unique by Columns\\033[0m\")\n",
        "print(pn_intermediary.nunique(), end= \"\\n\\n\")\n",
        "print(\"\\033[4mPercentage of Missing Value\\033[0m\")\n",
        "print(pn_intermediary.isnull().sum() * 100 / len(pn_intermediary))"
      ],
      "execution_count": 29,
      "outputs": [
        {
          "output_type": "stream",
          "name": "stdout",
          "text": [
            "Shape of cleaned data: (14110, 6)Remaining NAs: 9980\n",
            "\n",
            "Changes:\n",
            "Dropped rows: 0\n",
            "     of which 0 duplicates. (Rows: [])\n",
            "Dropped columns: 12\n",
            "     of which 3 single valued.     Columns: ['labels_n', 'n_valid_until', 'n_source_id']\n",
            "Dropped missing values: 126987\n",
            "Reduced memory by at least: 1.58 MB (-81.44%)\n",
            "\n",
            "\u001b[4mTop Columns\u001b[0m\n",
            "  n_country_codes    n_countries  n_node_id                                          n_address                      n_name   n_status\n",
            "0             ZAF   South Africa   11000001  MICHAEL PAPAGEORGE; MR. 106 NICHOLSON STREET B...     MICHAEL PAPAGEORGE, MR.     ACTIVE\n",
            "1             LIE  Liechtenstein   11000002                                               <NA>          CORFIDUCIA ANSTALT     ACTIVE\n",
            "2             MCO         Monaco   11000003                                               <NA>               DAVID, RONALD  SUSPENDED\n",
            "3             BEL        Belgium   11000004                                               <NA>  DE  BOUTSELIS, JEAN-PIERRE  SUSPENDED\n",
            "4             LBN        Lebanon   11000005                                               <NA>    THE LEVANT LAWYERS (TLL)     ACTIVE\n",
            "\n",
            "\u001b[4mrows, columns\u001b[0m\n",
            "(14110, 6)\n",
            "\n",
            "\u001b[4mInfo\u001b[0m\n",
            "<class 'pandas.core.frame.DataFrame'>\n",
            "RangeIndex: 14110 entries, 0 to 14109\n",
            "Data columns (total 6 columns):\n",
            " #   Column           Non-Null Count  Dtype   \n",
            "---  ------           --------------  -----   \n",
            " 0   n_country_codes  12598 non-null  category\n",
            " 1   n_countries      12598 non-null  category\n",
            " 2   n_node_id        14110 non-null  int32   \n",
            " 3   n_address        8643 non-null   string  \n",
            " 4   n_name           14110 non-null  string  \n",
            " 5   n_status         12621 non-null  category\n",
            "dtypes: category(3), int32(1), string(2)\n",
            "memory usage: 368.8 KB\n",
            "None\n",
            "\n",
            "\u001b[4mNumber of Unique by Columns\u001b[0m\n",
            "n_country_codes      241\n",
            "n_countries          241\n",
            "n_node_id          14110\n",
            "n_address           8639\n",
            "n_name             13927\n",
            "n_status               9\n",
            "dtype: int64\n",
            "\n",
            "\u001b[4mPercentage of Missing Value\u001b[0m\n",
            "n_country_codes    10.715804\n",
            "n_countries        10.715804\n",
            "n_node_id           0.000000\n",
            "n_address          38.745571\n",
            "n_name              0.000000\n",
            "n_status           10.552799\n",
            "dtype: float64\n"
          ]
        }
      ]
    },
    {
      "cell_type": "code",
      "metadata": {
        "colab": {
          "base_uri": "https://localhost:8080/"
        },
        "id": "vzRiekre4iVW",
        "outputId": "fe9b05c3-3e32-4b34-972f-c8d4891db4b9"
      },
      "source": [
        "pn_officer = pd.read_csv(\"/content/csv_panama_papers.2017-11-17/panama_papers.nodes.officer.csv\")\n",
        "pn_officer = klib.data_cleaning(pn_officer)\n",
        "\n",
        "print(\"\\033[4mTop Columns\\033[0m\")\n",
        "print(pn_officer.head(), end= \"\\n\\n\")\n",
        "print(\"\\033[4mRows, Columns\\033[0m\")\n",
        "print(pn_officer.shape, end= \"\\n\\n\")\n",
        "print(\"\\033[4mInfo\\033[0m\")\n",
        "print(pn_officer.info(), end= \"\\n\\n\")\n",
        "print(\"\\033[4mNumber of Unique by Columns\\033[0m\")\n",
        "print(pn_officer.nunique(), end= \"\\n\\n\")\n",
        "print(\"\\033[4mPercentage of Missing Value\\033[0m\")\n",
        "print(pn_officer.isnull().sum() * 100 / len(pn_officer))"
      ],
      "execution_count": 31,
      "outputs": [
        {
          "output_type": "stream",
          "name": "stderr",
          "text": [
            "/usr/local/lib/python3.7/dist-packages/IPython/core/interactiveshell.py:2718: DtypeWarning: Columns (17) have mixed types.Specify dtype option on import or set low_memory=False.\n",
            "  interactivity=interactivity, compiler=compiler, result=result)\n"
          ]
        },
        {
          "output_type": "stream",
          "name": "stdout",
          "text": [
            "Shape of cleaned data: (238402, 4)Remaining NAs: 187229\n",
            "\n",
            "Changes:\n",
            "Dropped rows: 0\n",
            "     of which 0 duplicates. (Rows: [])\n",
            "Dropped columns: 14\n",
            "     of which 3 single valued.     Columns: ['labels_n', 'n_valid_until', 'n_source_id']\n",
            "Dropped missing values: 2622373\n",
            "Reduced memory by at least: 29.08 MB (-88.82%)\n",
            "\n",
            "\u001b[4mTop Columns\u001b[0m\n",
            "  n_country_codes  n_countries  n_node_id                n_name\n",
            "0             KOR  South Korea   12000001            KIM SOO IN\n",
            "1             CHN        China   12000002             Tian Yuan\n",
            "2             AUS    Australia   12000003  GREGORY JOHN SOLOMON\n",
            "3             JPN        Japan   12000004        MATSUDA MASUMI\n",
            "4             VNM     Viet Nam   12000005           HO THUY NGA\n",
            "\n",
            "\u001b[4mRows, Columns\u001b[0m\n",
            "(238402, 4)\n",
            "\n",
            "\u001b[4mInfo\u001b[0m\n",
            "<class 'pandas.core.frame.DataFrame'>\n",
            "RangeIndex: 238402 entries, 0 to 238401\n",
            "Data columns (total 4 columns):\n",
            " #   Column           Non-Null Count   Dtype   \n",
            "---  ------           --------------   -----   \n",
            " 0   n_country_codes  144789 non-null  category\n",
            " 1   n_countries      144789 non-null  category\n",
            " 2   n_node_id        238402 non-null  int32   \n",
            " 3   n_name           238399 non-null  string  \n",
            "dtypes: category(2), int32(1), string(1)\n",
            "memory usage: 3.7 MB\n",
            "None\n",
            "\n",
            "\u001b[4mNumber of Unique by Columns\u001b[0m\n",
            "n_country_codes       201\n",
            "n_countries           201\n",
            "n_node_id          238402\n",
            "n_name             122814\n",
            "dtype: int64\n",
            "\n",
            "\u001b[4mPercentage of Missing Value\u001b[0m\n",
            "n_country_codes    39.266869\n",
            "n_countries        39.266869\n",
            "n_node_id           0.000000\n",
            "n_name              0.001258\n",
            "dtype: float64\n"
          ]
        }
      ]
    },
    {
      "cell_type": "code",
      "metadata": {
        "colab": {
          "base_uri": "https://localhost:8080/"
        },
        "id": "_i0B_DSN-F6W",
        "outputId": "64951c0b-71ac-4db1-ef9d-42cb288b45b5"
      },
      "source": [
        "pn_others = pd.read_csv(\"/content/csv_panama_papers.2017-11-17/panama_papers.nodes.other.csv\")\n",
        "pn_others = klib.data_cleaning(pn_others)\n",
        "\n",
        "print(\"\\033[4mTop Columns\\033[0m\")\n",
        "print(pn_others.head(), end= \"\\n\\n\")\n",
        "print(\"\\033[4mRows, Columns\\033[0m\")\n",
        "print(pn_others.shape, end= \"\\n\\n\")\n",
        "print(\"\\033[4mInfo\\033[0m\")\n",
        "print(pn_others.info(), end= \"\\n\\n\")\n",
        "print(\"\\033[4mNumber of Unique by Columns\\033[0m\")\n",
        "print(pn_others.nunique(), end= \"\\n\\n\")\n",
        "print(\"\\033[4mPercentage of Missing Value\\033[0m\")\n",
        "print(pn_others.isnull().sum() * 100 / len(pn_others))"
      ],
      "execution_count": 34,
      "outputs": [
        {
          "output_type": "stream",
          "name": "stdout",
          "text": [
            "Shape of cleaned data: (0, 0)Remaining NAs: 0.0\n",
            "\n",
            "Changes:\n",
            "Dropped rows: 0\n",
            "     of which 0 duplicates. (Rows: [])\n",
            "Dropped columns: 18\n",
            "     of which 0 single valued.     Columns: []\n",
            "Dropped missing values: 0.0\n",
            "Reduced memory by at least: 0.0 MB (-nan%)\n",
            "\n",
            "\u001b[4mTop Columns\u001b[0m\n",
            "Empty DataFrame\n",
            "Columns: []\n",
            "Index: []\n",
            "\n",
            "\u001b[4mRows, Columns\u001b[0m\n",
            "(0, 0)\n",
            "\n",
            "\u001b[4mInfo\u001b[0m\n",
            "<class 'pandas.core.frame.DataFrame'>\n",
            "RangeIndex: 0 entries\n",
            "Empty DataFrameNone\n",
            "\n",
            "\u001b[4mNumber of Unique by Columns\u001b[0m\n",
            "Series([], dtype: float64)\n",
            "\n",
            "\u001b[4mPercentage of Missing Value\u001b[0m\n",
            "Series([], dtype: float64)\n"
          ]
        },
        {
          "output_type": "stream",
          "name": "stderr",
          "text": [
            "/usr/local/lib/python3.7/dist-packages/klib/utils.py:148: RuntimeWarning: invalid value encountered in double_scalars\n",
            "  mem_perc = round(100 * mem_change / data_mem, 2)\n"
          ]
        }
      ]
    },
    {
      "cell_type": "markdown",
      "metadata": {
        "id": "xcRBgtvIKgiZ"
      },
      "source": [
        "###Paradise Papaers"
      ]
    },
    {
      "cell_type": "code",
      "metadata": {
        "id": "718ALtehKnhm",
        "colab": {
          "base_uri": "https://localhost:8080/"
        },
        "outputId": "ef9e6b88-7081-4712-c3ca-0beed06f0917"
      },
      "source": [
        "pr_edges = pd.read_csv(\"/content/csv_paradise_papers.2017-11-17/paradise_papers.edges.csv\")\n",
        "pr_edges = klib.data_cleaning(pr_edges)\n",
        "\n",
        "print(\"\\033[4mTop Columns\\033[0m\")\n",
        "print(pr_edges.head(), end= \"\\n\\n\")\n",
        "print(\"\\033[4mRows, Columns\\033[0m\")\n",
        "print(pr_edges.shape, end= \"\\n\\n\")\n",
        "print(\"\\033[4mInfo\\033[0m\")\n",
        "print(pr_edges.info(), end= \"\\n\\n\")\n",
        "print(\"\\033[4mNumber of Unique by Columns\\033[0m\")\n",
        "print(pr_edges.nunique(), end= \"\\n\\n\")\n",
        "print(\"\\033[4mPercentage of Missing Value\\033[0m\")\n",
        "print(pr_edges.isnull().sum() * 100 / len(pr_edges))"
      ],
      "execution_count": 40,
      "outputs": [
        {
          "output_type": "stream",
          "name": "stdout",
          "text": [
            "Shape of cleaned data: (341871, 7)Remaining NAs: 462751\n",
            "\n",
            "Changes:\n",
            "Dropped rows: 22585\n",
            "     of which 22585 duplicates. (Rows: [1435, 1462, 1469, 1472, 1488, 1489, 1542, 1561, 1570, 1675, 1692, 1709, 1719, 1739, 1753, 1767, 1769, 1771, 1772, 1789, 1791, 1799, 1810, 1818, 1819, 1823, 1829, 1838, 1840, 1842, 1845, 1846, 1848, 1859, 1861, 1862, 1865, 1866, 1869, 1872, 1874, 1884, 1896, 1898, 1901, 1903, 1905, 1920, 1927, 1936, 1956, 1976, 2000, 2018, 2022, 2023, 2025, 2028, 2030, 2034, 2035, 2039, 2045, 2047, 2049, 2051, 2055, 2057, 2062, 2064, 2066, 2076, 2078, 2083, 2088, 2092, 2098, 2100, 2102, 2104, 2114, 2150, 2176, 2177, 2178, 2196, 2210, 2225, 2226, 2228, 2250, 2271, 2276, 2301, 2322, 2323, 2336, 2337, 2341, 2355, 2406, 2414, 2426, 2455, 2464, 2474, 2523, 2525, 2527, 2529, 2531, 2534, 2535, 2537, 2542, 2564, 2571, 2602, 2604, 2608, 2612, 2616, 2620, 2624, 2625, 2630, 2638, 2642, 2645, 2647, 2653, 2658, 2660, 2662, 2665, 2670, 2674, 2677, 2681, 2684, 2695, 2698, 2700, 2712, 2721, 2726, 2730, 2732, 2734, 2736, 2738, 2740, 2742, 2744, 2751, 2755, 2771, 2776, 2778, 2780, 2781, 2790, 2797, 2810, 2814, 2832, 2849, 2879, 2885, 2889, 2933, 2939, 2941, 2943, 2957, 2959, 2961, 2963, 2965, 2968, 2970, 2971, 2986, 2995, 3005, 3006, 3008, 3011, 3015, 3033, 3037, 3047, 3053, 3055, 3057, 3089, 3093, 3095, 3097, 3102])\n",
            "Dropped columns: 0\n",
            "     of which 0 single valued.     Columns: []\n",
            "Dropped missing values: 7302\n",
            "Reduced memory by at least: 13.99 MB (-71.89%)\n",
            "\n",
            "\u001b[4mTop Columns\u001b[0m\n",
            "     node_1            rel_type    node_2                r_source_id                         r_valid_until r_start_date r_end_date\n",
            "0  82019024  registered_address  81027146  Paradise Papers - Appleby  Appleby data is current through 2014          NaN        NaN\n",
            "1  82019039  registered_address  81027146  Paradise Papers - Appleby  Appleby data is current through 2014          NaN        NaN\n",
            "2  82019028  registered_address  81027146  Paradise Papers - Appleby  Appleby data is current through 2014          NaN        NaN\n",
            "3  82019060  registered_address  81027146  Paradise Papers - Appleby  Appleby data is current through 2014          NaN        NaN\n",
            "4  82019037  registered_address  81027146  Paradise Papers - Appleby  Appleby data is current through 2014          NaN        NaN\n",
            "\n",
            "\u001b[4mRows, Columns\u001b[0m\n",
            "(341871, 7)\n",
            "\n",
            "\u001b[4mInfo\u001b[0m\n",
            "<class 'pandas.core.frame.DataFrame'>\n",
            "RangeIndex: 341871 entries, 0 to 341870\n",
            "Data columns (total 7 columns):\n",
            " #   Column         Non-Null Count   Dtype   \n",
            "---  ------         --------------   -----   \n",
            " 0   node_1         341871 non-null  int32   \n",
            " 1   rel_type       341871 non-null  category\n",
            " 2   node_2         341871 non-null  int32   \n",
            " 3   r_source_id    341871 non-null  category\n",
            " 4   r_valid_until  341871 non-null  category\n",
            " 5   r_start_date   129737 non-null  category\n",
            " 6   r_end_date     91254 non-null   category\n",
            "dtypes: category(5), int32(2)\n",
            "memory usage: 5.5 MB\n",
            "None\n",
            "\n",
            "\u001b[4mNumber of Unique by Columns\u001b[0m\n",
            "node_1           103233\n",
            "rel_type              6\n",
            "node_2            82183\n",
            "r_source_id           5\n",
            "r_valid_until         5\n",
            "r_start_date       8078\n",
            "r_end_date         6103\n",
            "dtype: int64\n",
            "\n",
            "\u001b[4mPercentage of Missing Value\u001b[0m\n",
            "node_1            0.000000\n",
            "rel_type          0.000000\n",
            "node_2            0.000000\n",
            "r_source_id       0.000000\n",
            "r_valid_until     0.000000\n",
            "r_start_date     62.050891\n",
            "r_end_date       73.307476\n",
            "dtype: float64\n"
          ]
        }
      ]
    },
    {
      "cell_type": "code",
      "metadata": {
        "colab": {
          "base_uri": "https://localhost:8080/"
        },
        "id": "-J06oi6CQ-ly",
        "outputId": "9dbd0ea5-0504-4c8c-ef80-8eaa9b4cfad6"
      },
      "source": [
        "pr_address = pd.read_csv(\"/content/csv_paradise_papers.2017-11-17/paradise_papers.nodes.address.csv\")\n",
        "pr_address = klib.data_cleaning(pr_address)\n",
        "\n",
        "print(\"\\033[4mTop Columns\\033[0m\")\n",
        "print(pr_address.head(), end= \"\\n\\n\")\n",
        "print(\"\\033[4mRows, Columns\\033[0m\")\n",
        "print(pr_address.shape, end= \"\\n\\n\")\n",
        "print(\"\\033[4mInfo\\033[0m\")\n",
        "print(pr_address.info(), end= \"\\n\\n\")\n",
        "print(\"\\033[4mNumber of Unique by Columns\\033[0m\")\n",
        "print(pr_address.nunique(), end= \"\\n\\n\")\n",
        "print(\"\\033[4mPercentage of Missing Value\\033[0m\")\n",
        "print(pr_address.isnull().sum() * 100 / len(pr_address))"
      ],
      "execution_count": 41,
      "outputs": [
        {
          "output_type": "stream",
          "name": "stdout",
          "text": [
            "Shape of cleaned data: (59228, 7)Remaining NAs: 1356\n",
            "\n",
            "Changes:\n",
            "Dropped rows: 0\n",
            "     of which 0 duplicates. (Rows: [])\n",
            "Dropped columns: 11\n",
            "     of which 1 single valued.     Columns: ['labels_n']\n",
            "Dropped missing values: 592280\n",
            "Reduced memory by at least: 6.65 MB (-81.8%)\n",
            "\n",
            "\u001b[4mTop Columns\u001b[0m\n",
            "                          n_valid_until n_country_codes             n_countries  n_node_id                n_source_id                    n_address                                             n_name\n",
            "0  Appleby data is current through 2014             VGB  British Virgin Islands   81000002  Paradise Papers - Appleby             Palm Grove House  Palm Grove House; VG1110 Road Town; Tortola; B...\n",
            "1  Appleby data is current through 2014             MUS               Mauritius   81000005  Paradise Papers - Appleby       8th Floor, Medine Mews  8th Floor, Medine Mews; La Chaussee Street; Po...\n",
            "2  Appleby data is current through 2014             MUS               Mauritius   81000009  Paradise Papers - Appleby  4th Floor Barkly Wharf East  4th Floor Barkly Wharf East; Le Caudan Waterfr...\n",
            "3  Appleby data is current through 2014             MUS               Mauritius   81000011  Paradise Papers - Appleby                    4th Floor  4th Floor; IBL House ; Caudan; Port Louis; Mau...\n",
            "4  Appleby data is current through 2014             MUS               Mauritius   81000012  Paradise Papers - Appleby         One Cathedral Square  One Cathedral Square; Jules Koenig Street; Por...\n",
            "\n",
            "\u001b[4mRows, Columns\u001b[0m\n",
            "(59228, 7)\n",
            "\n",
            "\u001b[4mInfo\u001b[0m\n",
            "<class 'pandas.core.frame.DataFrame'>\n",
            "RangeIndex: 59228 entries, 0 to 59227\n",
            "Data columns (total 7 columns):\n",
            " #   Column           Non-Null Count  Dtype   \n",
            "---  ------           --------------  -----   \n",
            " 0   n_valid_until    59228 non-null  category\n",
            " 1   n_country_codes  58551 non-null  category\n",
            " 2   n_countries      58551 non-null  category\n",
            " 3   n_node_id        59228 non-null  int32   \n",
            " 4   n_source_id      59228 non-null  category\n",
            " 5   n_address        59227 non-null  string  \n",
            " 6   n_name           59227 non-null  string  \n",
            "dtypes: category(4), int32(1), string(2)\n",
            "memory usage: 1.5 MB\n",
            "None\n",
            "\n",
            "\u001b[4mNumber of Unique by Columns\u001b[0m\n",
            "n_valid_until          3\n",
            "n_country_codes      169\n",
            "n_countries          169\n",
            "n_node_id          59228\n",
            "n_source_id            3\n",
            "n_address          55143\n",
            "n_name             58705\n",
            "dtype: int64\n",
            "\n",
            "\u001b[4mPercentage of Missing Value\u001b[0m\n",
            "n_valid_until      0.000000\n",
            "n_country_codes    1.143040\n",
            "n_countries        1.143040\n",
            "n_node_id          0.000000\n",
            "n_source_id        0.000000\n",
            "n_address          0.001688\n",
            "n_name             0.001688\n",
            "dtype: float64\n"
          ]
        }
      ]
    },
    {
      "cell_type": "code",
      "metadata": {
        "colab": {
          "base_uri": "https://localhost:8080/"
        },
        "id": "trYPVm2tRAdN",
        "outputId": "893b8a1c-2434-4483-ce80-00ff5c34b6c0"
      },
      "source": [
        "pr_entity = pd.read_csv(\"/content/csv_paradise_papers.2017-11-17/paradise_papers.nodes.entity.csv\")\n",
        "pr_entity = klib.data_cleaning(pr_entity)\n",
        "\n",
        "print(\"\\033[4mTop Columns\\033[0m\")\n",
        "print(pr_entity.head(), end= \"\\n\\n\")\n",
        "print(\"\\033[4mRows, Columns\\033[0m\")\n",
        "print(pr_entity.shape, end= \"\\n\\n\")\n",
        "print(\"\\033[4mInfo\\033[0m\")\n",
        "print(pr_entity.info(), end= \"\\n\\n\")\n",
        "print(\"\\033[4mNumber of Unique by Columns\\033[0m\")\n",
        "print(pr_entity.nunique(), end= \"\\n\\n\")\n",
        "print(\"\\033[4mPercentage of Missing Value\\033[0m\")\n",
        "print(pr_entity.isnull().sum() * 100 / len(pr_entity))"
      ],
      "execution_count": 42,
      "outputs": [
        {
          "output_type": "stream",
          "name": "stdout",
          "text": [
            "Long column names detected (>25 characters). Consider renaming the following columns ['n_jurisdiction_description'].\n",
            "Shape of cleaned data: (24957, 13)Remaining NAs: 18402\n",
            "\n",
            "Changes:\n",
            "Dropped rows: 0\n",
            "     of which 0 duplicates. (Rows: [])\n",
            "Dropped columns: 5\n",
            "     of which 1 single valued.     Columns: ['labels_n']\n",
            "Dropped missing values: 99809\n",
            "Reduced memory by at least: 2.28 MB (-66.47%)\n",
            "\n",
            "\u001b[4mTop Columns\u001b[0m\n",
            "                          n_valid_until n_country_codes     n_countries  n_node_id                n_source_id                                  n_name n_jurisdiction_description n_service_provider n_jurisdiction n_closed_date n_incorporation_date n_ibc_ruc n_type\n",
            "0  Appleby data is current through 2014             CYM  Cayman Islands   82019024  Paradise Papers - Appleby         ZZZ-CEDRO INTERNATIONAL LIMITED             Cayman Islands            Appleby             KY          <NA>          2003-Dec-09    131215     CE\n",
            "1  Appleby data is current through 2014             CYM  Cayman Islands   82019039  Paradise Papers - Appleby  ZZZ-HOUSTON EQUIPMENT SERVICES LIMITED             Cayman Islands            Appleby             KY   2014-Feb-23          1994-Sep-19     56108     CE\n",
            "2  Appleby data is current through 2014             CYM  Cayman Islands   82019028  Paradise Papers - Appleby        ZZZ-GLOBAL RESOURCES CORPORATION             Cayman Islands            Appleby             KY   2004-Jul-30          1994-Sep-19    001062     CE\n",
            "3  Appleby data is current through 2014             CYM  Cayman Islands   82019060  Paradise Papers - Appleby        ZZZ-CEDAR POINT INVESTMENTS LTD.             Cayman Islands            Appleby             KY   1998-Oct-28          1998-Oct-28     85534     CE\n",
            "4  Appleby data is current through 2014             CYM  Cayman Islands   82019037  Paradise Papers - Appleby                ZZZ-JULIUS HOLDING CORP.             Cayman Islands            Appleby             KY   2007-Jul-31          1997-May-14     73687     CE\n",
            "\n",
            "\u001b[4mRows, Columns\u001b[0m\n",
            "(24957, 13)\n",
            "\n",
            "\u001b[4mInfo\u001b[0m\n",
            "<class 'pandas.core.frame.DataFrame'>\n",
            "RangeIndex: 24957 entries, 0 to 24956\n",
            "Data columns (total 13 columns):\n",
            " #   Column                      Non-Null Count  Dtype   \n",
            "---  ------                      --------------  -----   \n",
            " 0   n_valid_until               24957 non-null  category\n",
            " 1   n_country_codes             24237 non-null  category\n",
            " 2   n_countries                 24237 non-null  category\n",
            " 3   n_node_id                   24957 non-null  int32   \n",
            " 4   n_source_id                 24957 non-null  category\n",
            " 5   n_name                      24957 non-null  string  \n",
            " 6   n_jurisdiction_description  24957 non-null  category\n",
            " 7   n_service_provider          24936 non-null  category\n",
            " 8   n_jurisdiction              24957 non-null  category\n",
            " 9   n_closed_date               12872 non-null  string  \n",
            " 10  n_incorporation_date        23640 non-null  string  \n",
            " 11  n_ibc_ruc                   21912 non-null  string  \n",
            " 12  n_type                      24463 non-null  category\n",
            "dtypes: category(8), int32(1), string(4)\n",
            "memory usage: 1.1 MB\n",
            "None\n",
            "\n",
            "\u001b[4mNumber of Unique by Columns\u001b[0m\n",
            "n_valid_until                     5\n",
            "n_country_codes                 440\n",
            "n_countries                     440\n",
            "n_node_id                     24957\n",
            "n_source_id                       5\n",
            "n_name                        24870\n",
            "n_jurisdiction_description       40\n",
            "n_service_provider                1\n",
            "n_jurisdiction                   44\n",
            "n_closed_date                  2823\n",
            "n_incorporation_date           7436\n",
            "n_ibc_ruc                     21714\n",
            "n_type                           40\n",
            "dtype: int64\n",
            "\n",
            "\u001b[4mPercentage of Missing Value\u001b[0m\n",
            "n_valid_until                  0.000000\n",
            "n_country_codes                2.884962\n",
            "n_countries                    2.884962\n",
            "n_node_id                      0.000000\n",
            "n_source_id                    0.000000\n",
            "n_name                         0.000000\n",
            "n_jurisdiction_description     0.000000\n",
            "n_service_provider             0.084145\n",
            "n_jurisdiction                 0.000000\n",
            "n_closed_date                 48.423288\n",
            "n_incorporation_date           5.277077\n",
            "n_ibc_ruc                     12.200986\n",
            "n_type                         1.979405\n",
            "dtype: float64\n"
          ]
        }
      ]
    },
    {
      "cell_type": "code",
      "metadata": {
        "colab": {
          "base_uri": "https://localhost:8080/"
        },
        "id": "HIaZKxgcRAzM",
        "outputId": "32ec4633-1a24-4a24-f34b-9c7a27197b33"
      },
      "source": [
        "pr_officer = pd.read_csv(\"/content/csv_paradise_papers.2017-11-17/paradise_papers.nodes.officer.csv\")\n",
        "pr_officer = klib.data_cleaning(pr_officer)\n",
        "\n",
        "print(\"\\033[4mTop Columns\\033[0m\")\n",
        "print(pr_officer.head(), end= \"\\n\\n\")\n",
        "print(\"\\033[4mRows, Columns\\033[0m\")\n",
        "print(pr_officer.shape, end= \"\\n\\n\")\n",
        "print(\"\\033[4mInfo\\033[0m\")\n",
        "print(pr_officer.info(), end= \"\\n\\n\")\n",
        "print(\"\\033[4mNumber of Unique by Columns\\033[0m\")\n",
        "print(pr_officer.nunique(), end= \"\\n\\n\")\n",
        "print(\"\\033[4mPercentage of Missing Value\\033[0m\")\n",
        "print(pr_officer.isnull().sum() * 100 / len(pr_officer))"
      ],
      "execution_count": 44,
      "outputs": [
        {
          "output_type": "stream",
          "name": "stdout",
          "text": [
            "Shape of cleaned data: (77012, 6)Remaining NAs: 35209\n",
            "\n",
            "Changes:\n",
            "Dropped rows: 0\n",
            "     of which 0 duplicates. (Rows: [])\n",
            "Dropped columns: 12\n",
            "     of which 1 single valued.     Columns: ['labels_n']\n",
            "Dropped missing values: 843573\n",
            "Reduced memory by at least: 9.07 MB (-85.73%)\n",
            "\n",
            "\u001b[4mTop Columns\u001b[0m\n",
            "                          n_valid_until n_country_codes              n_countries  n_node_id                n_source_id                                       n_name\n",
            "0  Appleby data is current through 2014             MUS                Mauritius   80113134  Paradise Papers - Appleby  Lee Mo Lin - Noel Patrick L.C.K - Mauritius\n",
            "1  Appleby data is current through 2014         SGP;USA  Singapore;United States   80113142  Paradise Papers - Appleby                             Pleshko - Daniel\n",
            "2  Appleby data is current through 2014         BMU;GBR   Bermuda;United Kingdom   80113143  Paradise Papers - Appleby                               Plested - John\n",
            "3  Appleby data is current through 2014         AUS;SGP      Australia;Singapore   80113145  Paradise Papers - Appleby                       Plewright - Peter John\n",
            "4  Appleby data is current through 2014             CYM           Cayman Islands   80113146  Paradise Papers - Appleby                       Plexman - Eric Anthony\n",
            "\n",
            "\u001b[4mRows, Columns\u001b[0m\n",
            "(77012, 6)\n",
            "\n",
            "\u001b[4mInfo\u001b[0m\n",
            "<class 'pandas.core.frame.DataFrame'>\n",
            "RangeIndex: 77012 entries, 0 to 77011\n",
            "Data columns (total 6 columns):\n",
            " #   Column           Non-Null Count  Dtype   \n",
            "---  ------           --------------  -----   \n",
            " 0   n_valid_until    77012 non-null  category\n",
            " 1   n_country_codes  59416 non-null  category\n",
            " 2   n_countries      59399 non-null  category\n",
            " 3   n_node_id        77012 non-null  int32   \n",
            " 4   n_source_id      77012 non-null  category\n",
            " 5   n_name           77012 non-null  string  \n",
            "dtypes: category(4), int32(1), string(1)\n",
            "memory usage: 1.5 MB\n",
            "None\n",
            "\n",
            "\u001b[4mNumber of Unique by Columns\u001b[0m\n",
            "n_valid_until          5\n",
            "n_country_codes     1788\n",
            "n_countries         1788\n",
            "n_node_id          77012\n",
            "n_source_id            5\n",
            "n_name             75817\n",
            "dtype: int64\n",
            "\n",
            "\u001b[4mPercentage of Missing Value\u001b[0m\n",
            "n_valid_until       0.000000\n",
            "n_country_codes    22.848387\n",
            "n_countries        22.870462\n",
            "n_node_id           0.000000\n",
            "n_source_id         0.000000\n",
            "n_name              0.000000\n",
            "dtype: float64\n"
          ]
        }
      ]
    },
    {
      "cell_type": "code",
      "metadata": {
        "colab": {
          "base_uri": "https://localhost:8080/"
        },
        "id": "bC8GMiIdRBKT",
        "outputId": "dcad654e-308e-4b3d-94da-cb0d29139cad"
      },
      "source": [
        "pr_others = pd.read_csv(\"/content/csv_paradise_papers.2017-11-17/paradise_papers.nodes.other.csv\")\n",
        "pr_others = klib.data_cleaning(pr_others)\n",
        "\n",
        "print(\"\\033[4mTop Columns\\033[0m\")\n",
        "print(pr_others.head(), end= \"\\n\\n\")\n",
        "print(\"\\033[4mRows, Columns\\033[0m\")\n",
        "print(pr_others.shape, end= \"\\n\\n\")\n",
        "print(\"\\033[4mInfo\\033[0m\")\n",
        "print(pr_others.info(), end= \"\\n\\n\")\n",
        "print(\"\\033[4mNumber of Unique by Columns\\033[0m\")\n",
        "print(pr_others.nunique(), end= \"\\n\\n\")\n",
        "print(\"\\033[4mPercentage of Missing Value\\033[0m\")\n",
        "print(pr_others.isnull().sum() * 100 / len(pr_others))"
      ],
      "execution_count": 45,
      "outputs": [
        {
          "output_type": "stream",
          "name": "stdout",
          "text": [
            "Shape of cleaned data: (2031, 4)Remaining NAs: 3290\n",
            "\n",
            "Changes:\n",
            "Dropped rows: 0\n",
            "     of which 0 duplicates. (Rows: [])\n",
            "Dropped columns: 14\n",
            "     of which 3 single valued.     Columns: ['labels_n', 'n_valid_until', 'n_source_id']\n",
            "Dropped missing values: 22341\n",
            "Reduced memory by at least: 0.23 MB (-82.14%)\n",
            "\n",
            "\u001b[4mTop Columns\u001b[0m\n",
            "  n_country_codes n_countries  n_node_id                     n_name\n",
            "0            <NA>        <NA>   80072517           Group - Tibbetts\n",
            "1            <NA>        <NA>   80072518      Group - David Spencer\n",
            "2            <NA>        <NA>   80072519       Group - David Witzke\n",
            "3            <NA>        <NA>   80072520    Group - David Meyerhoff\n",
            "4            <NA>        <NA>   80072521  Group-David Rexford White\n",
            "\n",
            "\u001b[4mRows, Columns\u001b[0m\n",
            "(2031, 4)\n",
            "\n",
            "\u001b[4mInfo\u001b[0m\n",
            "<class 'pandas.core.frame.DataFrame'>\n",
            "RangeIndex: 2031 entries, 0 to 2030\n",
            "Data columns (total 4 columns):\n",
            " #   Column           Non-Null Count  Dtype \n",
            "---  ------           --------------  ----- \n",
            " 0   n_country_codes  386 non-null    string\n",
            " 1   n_countries      386 non-null    string\n",
            " 2   n_node_id        2031 non-null   int32 \n",
            " 3   n_name           2031 non-null   string\n",
            "dtypes: int32(1), string(3)\n",
            "memory usage: 55.7 KB\n",
            "None\n",
            "\n",
            "\u001b[4mNumber of Unique by Columns\u001b[0m\n",
            "n_country_codes      63\n",
            "n_countries          63\n",
            "n_node_id          2031\n",
            "n_name             2027\n",
            "dtype: int64\n",
            "\n",
            "\u001b[4mPercentage of Missing Value\u001b[0m\n",
            "n_country_codes    80.994584\n",
            "n_countries        80.994584\n",
            "n_node_id           0.000000\n",
            "n_name              0.000000\n",
            "dtype: float64\n"
          ]
        }
      ]
    },
    {
      "cell_type": "markdown",
      "metadata": {
        "id": "p5fiNopWm_Z3"
      },
      "source": [
        "###List of dataframes"
      ]
    },
    {
      "cell_type": "code",
      "metadata": {
        "colab": {
          "base_uri": "https://localhost:8080/"
        },
        "id": "fjLNdExnje61",
        "outputId": "489e284c-792d-428d-b0a1-3a35af08e8ae"
      },
      "source": [
        "import re\n",
        "\n",
        "alldfs = [var for var in dir() if isinstance(eval(var), pd.core.frame.DataFrame)]\n",
        "\n",
        "print(\"\\033[4mBahamas Leaks DF\\033[0m\")\n",
        "for i in alldfs:\n",
        "  if re.search(\"^bs\", i):\n",
        "    print(i)\n",
        "print()\n",
        "print(\"\\033[4mOffshore Leaks DF\\033[0m\")\n",
        "for i in alldfs:\n",
        "  if re.search(\"^os\", i):\n",
        "    print(i)\n",
        "print()\n",
        "print(\"\\033[4mPanama Papers DF\\033[0m\")\n",
        "for i in alldfs:\n",
        "  if re.search(\"^pn\", i):\n",
        "    print(i)\n",
        "print()\n",
        "print(\"\\033[4mParadise Papers DFDF\\033[0m\")\n",
        "for i in alldfs:\n",
        "  if re.search(\"^pr\", i):\n",
        "    print(i)"
      ],
      "execution_count": 46,
      "outputs": [
        {
          "output_type": "stream",
          "name": "stdout",
          "text": [
            "\u001b[4mBahamas Leaks DF\u001b[0m\n",
            "bs_address\n",
            "bs_edges\n",
            "bs_entity\n",
            "bs_intermediary\n",
            "bs_officer\n",
            "bs_others\n",
            "\n",
            "\u001b[4mOffshore Leaks DF\u001b[0m\n",
            "os_address\n",
            "os_edges\n",
            "os_entity\n",
            "os_intermediary\n",
            "os_officer\n",
            "os_others\n",
            "\n",
            "\u001b[4mPanama Papers DF\u001b[0m\n",
            "pn_address\n",
            "pn_edges\n",
            "pn_entity\n",
            "pn_intermediary\n",
            "pn_officer\n",
            "pn_others\n",
            "\n",
            "\u001b[4mParadise Papers DFDF\u001b[0m\n",
            "pr_address\n",
            "pr_edges\n",
            "pr_entity\n",
            "pr_officer\n",
            "pr_others\n"
          ]
        }
      ]
    }
  ]
}